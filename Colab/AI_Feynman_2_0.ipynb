{
  "nbformat": 4,
  "nbformat_minor": 0,
  "metadata": {
    "colab": {
      "name": "AI-Feynman 2.0.ipynb",
      "provenance": [],
      "toc_visible": true
    },
    "kernelspec": {
      "name": "python3",
      "display_name": "Python 3"
    },
    "accelerator": "TPU",
    "gpuClass": "standard"
  },
  "cells": [
    {
      "cell_type": "markdown",
      "metadata": {
        "id": "ir7_gq53qkUC"
      },
      "source": [
        "# AI Feynman 2.0: Learning Regression Equations From Data"
      ]
    },
    {
      "cell_type": "markdown",
      "metadata": {
        "id": "e2Lh5Lakqo_l"
      },
      "source": [
        "### Clone repository and install dependencies"
      ]
    },
    {
      "cell_type": "code",
      "metadata": {
        "id": "EBVOTDjUWEzw",
        "colab": {
          "base_uri": "https://localhost:8080/"
        },
        "outputId": "35a95a52-a902-4b81-cdad-0fa7692a76df"
      },
      "source": [
        "!git clone https://github.com/SJ001/AI-Feynman.git\n",
        "!cd /content/AI-Feynman && git reset --hard 28edde1a36a166a081de84999ab4fd40071957db"
      ],
      "execution_count": 1,
      "outputs": [
        {
          "output_type": "stream",
          "name": "stdout",
          "text": [
            "Cloning into 'AI-Feynman'...\n",
            "remote: Enumerating objects: 633, done.\u001b[K\n",
            "remote: Counting objects: 100% (140/140), done.\u001b[K\n",
            "remote: Compressing objects: 100% (59/59), done.\u001b[K\n",
            "remote: Total 633 (delta 88), reused 121 (delta 80), pack-reused 493\u001b[K\n",
            "Receiving objects: 100% (633/633), 31.40 MiB | 15.78 MiB/s, done.\n",
            "Resolving deltas: 100% (395/395), done.\n",
            "HEAD is now at 28edde1 Add files via upload\n"
          ]
        }
      ]
    },
    {
      "cell_type": "markdown",
      "metadata": {
        "id": "0_s1t2sIqwnK"
      },
      "source": [
        "Look at what we downloaded"
      ]
    },
    {
      "cell_type": "code",
      "metadata": {
        "id": "4waRdiP0WGWc",
        "colab": {
          "base_uri": "https://localhost:8080/"
        },
        "outputId": "60b57a2c-50f4-4f75-81c3-1732b6e28370"
      },
      "source": [
        "!ls /content/AI-Feynman\n",
        "# %pycat AI-Feynman/requirements.txt if you need to fix the dependencies"
      ],
      "execution_count": 2,
      "outputs": [
        {
          "output_type": "stream",
          "name": "stdout",
          "text": [
            "Code  example_data  LICENSE  README.md\trequirements.txt\n"
          ]
        }
      ]
    },
    {
      "cell_type": "markdown",
      "metadata": {
        "id": "zNyUWmlYq-Rk"
      },
      "source": [
        "Fix broken requirements file (may not be needed if later versions fix this)."
      ]
    },
    {
      "cell_type": "code",
      "metadata": {
        "id": "6JmUiyv3W95L",
        "colab": {
          "base_uri": "https://localhost:8080/"
        },
        "outputId": "41c92d61-04be-4321-ff9a-9c6a8a5314ac"
      },
      "source": [
        "%%writefile AI-Feynman/requirements.txt\n",
        "torch>=1.4.0\n",
        "matplotlib\n",
        "sympy==1.4\n",
        "pandas\n",
        "scipy\n",
        "sortedcontainers"
      ],
      "execution_count": 3,
      "outputs": [
        {
          "output_type": "stream",
          "name": "stdout",
          "text": [
            "Overwriting AI-Feynman/requirements.txt\n"
          ]
        }
      ]
    },
    {
      "cell_type": "markdown",
      "metadata": {
        "id": "Kbqe9q-SrE4q"
      },
      "source": [
        "Install dependencies not already installed in Google Collab"
      ]
    },
    {
      "cell_type": "code",
      "metadata": {
        "id": "Um22QVI3WlJT",
        "colab": {
          "base_uri": "https://localhost:8080/"
        },
        "outputId": "40ac77de-00b7-47fd-a012-52b5d3e152a7"
      },
      "source": [
        "!pip install -r AI-Feynman/requirements.txt"
      ],
      "execution_count": 4,
      "outputs": [
        {
          "output_type": "stream",
          "name": "stdout",
          "text": [
            "Looking in indexes: https://pypi.org/simple, https://us-python.pkg.dev/colab-wheels/public/simple/\n",
            "Requirement already satisfied: torch>=1.4.0 in /usr/local/lib/python3.9/dist-packages (from -r AI-Feynman/requirements.txt (line 1)) (2.0.0+cu118)\n",
            "Requirement already satisfied: matplotlib in /usr/local/lib/python3.9/dist-packages (from -r AI-Feynman/requirements.txt (line 2)) (3.7.1)\n",
            "Collecting sympy==1.4\n",
            "  Downloading sympy-1.4-py2.py3-none-any.whl (5.3 MB)\n",
            "\u001b[2K     \u001b[90m━━━━━━━━━━━━━━━━━━━━━━━━━━━━━━━━━━━━━━━━\u001b[0m \u001b[32m5.3/5.3 MB\u001b[0m \u001b[31m15.0 MB/s\u001b[0m eta \u001b[36m0:00:00\u001b[0m\n",
            "\u001b[?25hRequirement already satisfied: pandas in /usr/local/lib/python3.9/dist-packages (from -r AI-Feynman/requirements.txt (line 4)) (1.5.3)\n",
            "Requirement already satisfied: scipy in /usr/local/lib/python3.9/dist-packages (from -r AI-Feynman/requirements.txt (line 5)) (1.10.1)\n",
            "Requirement already satisfied: sortedcontainers in /usr/local/lib/python3.9/dist-packages (from -r AI-Feynman/requirements.txt (line 6)) (2.4.0)\n",
            "Requirement already satisfied: mpmath>=0.19 in /usr/local/lib/python3.9/dist-packages (from sympy==1.4->-r AI-Feynman/requirements.txt (line 3)) (1.3.0)\n",
            "Requirement already satisfied: typing-extensions in /usr/local/lib/python3.9/dist-packages (from torch>=1.4.0->-r AI-Feynman/requirements.txt (line 1)) (4.5.0)\n",
            "Requirement already satisfied: networkx in /usr/local/lib/python3.9/dist-packages (from torch>=1.4.0->-r AI-Feynman/requirements.txt (line 1)) (3.1)\n",
            "Requirement already satisfied: jinja2 in /usr/local/lib/python3.9/dist-packages (from torch>=1.4.0->-r AI-Feynman/requirements.txt (line 1)) (3.1.2)\n",
            "Requirement already satisfied: filelock in /usr/local/lib/python3.9/dist-packages (from torch>=1.4.0->-r AI-Feynman/requirements.txt (line 1)) (3.11.0)\n",
            "Requirement already satisfied: triton==2.0.0 in /usr/local/lib/python3.9/dist-packages (from torch>=1.4.0->-r AI-Feynman/requirements.txt (line 1)) (2.0.0)\n",
            "Requirement already satisfied: cmake in /usr/local/lib/python3.9/dist-packages (from triton==2.0.0->torch>=1.4.0->-r AI-Feynman/requirements.txt (line 1)) (3.25.2)\n",
            "Requirement already satisfied: lit in /usr/local/lib/python3.9/dist-packages (from triton==2.0.0->torch>=1.4.0->-r AI-Feynman/requirements.txt (line 1)) (16.0.1)\n",
            "Requirement already satisfied: fonttools>=4.22.0 in /usr/local/lib/python3.9/dist-packages (from matplotlib->-r AI-Feynman/requirements.txt (line 2)) (4.39.3)\n",
            "Requirement already satisfied: pyparsing>=2.3.1 in /usr/local/lib/python3.9/dist-packages (from matplotlib->-r AI-Feynman/requirements.txt (line 2)) (3.0.9)\n",
            "Requirement already satisfied: pillow>=6.2.0 in /usr/local/lib/python3.9/dist-packages (from matplotlib->-r AI-Feynman/requirements.txt (line 2)) (8.4.0)\n",
            "Requirement already satisfied: python-dateutil>=2.7 in /usr/local/lib/python3.9/dist-packages (from matplotlib->-r AI-Feynman/requirements.txt (line 2)) (2.8.2)\n",
            "Requirement already satisfied: contourpy>=1.0.1 in /usr/local/lib/python3.9/dist-packages (from matplotlib->-r AI-Feynman/requirements.txt (line 2)) (1.0.7)\n",
            "Requirement already satisfied: cycler>=0.10 in /usr/local/lib/python3.9/dist-packages (from matplotlib->-r AI-Feynman/requirements.txt (line 2)) (0.11.0)\n",
            "Requirement already satisfied: importlib-resources>=3.2.0 in /usr/local/lib/python3.9/dist-packages (from matplotlib->-r AI-Feynman/requirements.txt (line 2)) (5.12.0)\n",
            "Requirement already satisfied: packaging>=20.0 in /usr/local/lib/python3.9/dist-packages (from matplotlib->-r AI-Feynman/requirements.txt (line 2)) (23.0)\n",
            "Requirement already satisfied: numpy>=1.20 in /usr/local/lib/python3.9/dist-packages (from matplotlib->-r AI-Feynman/requirements.txt (line 2)) (1.22.4)\n",
            "Requirement already satisfied: kiwisolver>=1.0.1 in /usr/local/lib/python3.9/dist-packages (from matplotlib->-r AI-Feynman/requirements.txt (line 2)) (1.4.4)\n",
            "Requirement already satisfied: pytz>=2020.1 in /usr/local/lib/python3.9/dist-packages (from pandas->-r AI-Feynman/requirements.txt (line 4)) (2022.7.1)\n",
            "Requirement already satisfied: zipp>=3.1.0 in /usr/local/lib/python3.9/dist-packages (from importlib-resources>=3.2.0->matplotlib->-r AI-Feynman/requirements.txt (line 2)) (3.15.0)\n",
            "Requirement already satisfied: six>=1.5 in /usr/local/lib/python3.9/dist-packages (from python-dateutil>=2.7->matplotlib->-r AI-Feynman/requirements.txt (line 2)) (1.16.0)\n",
            "Requirement already satisfied: MarkupSafe>=2.0 in /usr/local/lib/python3.9/dist-packages (from jinja2->torch>=1.4.0->-r AI-Feynman/requirements.txt (line 1)) (2.1.2)\n",
            "Installing collected packages: sympy\n",
            "  Attempting uninstall: sympy\n",
            "    Found existing installation: sympy 1.11.1\n",
            "    Uninstalling sympy-1.11.1:\n",
            "      Successfully uninstalled sympy-1.11.1\n",
            "Successfully installed sympy-1.4\n"
          ]
        }
      ]
    },
    {
      "cell_type": "markdown",
      "metadata": {
        "id": "fR33HG3TrLRL"
      },
      "source": [
        "Check that fortran is installed"
      ]
    },
    {
      "cell_type": "code",
      "metadata": {
        "id": "WwBFL0AwXcUZ",
        "colab": {
          "base_uri": "https://localhost:8080/"
        },
        "outputId": "f1f5fe85-c377-4ac1-f8ac-7d3ca858747b"
      },
      "source": [
        "!gfortran --version"
      ],
      "execution_count": 5,
      "outputs": [
        {
          "output_type": "stream",
          "name": "stdout",
          "text": [
            "GNU Fortran (Ubuntu 9.4.0-1ubuntu1~20.04.1) 9.4.0\n",
            "Copyright (C) 2019 Free Software Foundation, Inc.\n",
            "This is free software; see the source for copying conditions.  There is NO\n",
            "warranty; not even for MERCHANTABILITY or FITNESS FOR A PARTICULAR PURPOSE.\n",
            "\n"
          ]
        }
      ]
    },
    {
      "cell_type": "markdown",
      "metadata": {
        "id": "FtKFAwpNsHX7"
      },
      "source": [
        "Check the OS version"
      ]
    },
    {
      "cell_type": "code",
      "metadata": {
        "id": "Hy62bRwAcp5g",
        "colab": {
          "base_uri": "https://localhost:8080/"
        },
        "outputId": "3133b80e-0a67-4a2c-9849-173ff2c64f18"
      },
      "source": [
        "!lsb_release -a"
      ],
      "execution_count": 6,
      "outputs": [
        {
          "output_type": "stream",
          "name": "stdout",
          "text": [
            "No LSB modules are available.\n",
            "Distributor ID:\tUbuntu\n",
            "Description:\tUbuntu 20.04.5 LTS\n",
            "Release:\t20.04\n",
            "Codename:\tfocal\n"
          ]
        }
      ]
    },
    {
      "cell_type": "markdown",
      "metadata": {
        "id": "NTOdJQLOrv20"
      },
      "source": [
        "Install the csh shell"
      ]
    },
    {
      "cell_type": "code",
      "metadata": {
        "id": "F5TroOkDc9jK",
        "colab": {
          "base_uri": "https://localhost:8080/"
        },
        "outputId": "fcb5df19-708e-4244-c042-62c807586103"
      },
      "source": [
        "!sudo apt-get install csh"
      ],
      "execution_count": 7,
      "outputs": [
        {
          "output_type": "stream",
          "name": "stdout",
          "text": [
            "Reading package lists... Done\n",
            "Building dependency tree       \n",
            "Reading state information... Done\n",
            "The following NEW packages will be installed:\n",
            "  csh\n",
            "0 upgraded, 1 newly installed, 0 to remove and 24 not upgraded.\n",
            "Need to get 243 kB of archives.\n",
            "After this operation, 367 kB of additional disk space will be used.\n",
            "Get:1 http://archive.ubuntu.com/ubuntu focal/universe amd64 csh amd64 20110502-5 [243 kB]\n",
            "Fetched 243 kB in 0s (2,707 kB/s)\n",
            "debconf: unable to initialize frontend: Dialog\n",
            "debconf: (No usable dialog-like program is installed, so the dialog based frontend cannot be used. at /usr/share/perl5/Debconf/FrontEnd/Dialog.pm line 76, <> line 1.)\n",
            "debconf: falling back to frontend: Readline\n",
            "debconf: unable to initialize frontend: Readline\n",
            "debconf: (This frontend requires a controlling tty.)\n",
            "debconf: falling back to frontend: Teletype\n",
            "dpkg-preconfigure: unable to re-open stdin: \n",
            "Selecting previously unselected package csh.\n",
            "(Reading database ... 122349 files and directories currently installed.)\n",
            "Preparing to unpack .../csh_20110502-5_amd64.deb ...\n",
            "Unpacking csh (20110502-5) ...\n",
            "Setting up csh (20110502-5) ...\n",
            "update-alternatives: using /bin/bsd-csh to provide /bin/csh (csh) in auto mode\n",
            "Processing triggers for man-db (2.9.1-1) ...\n"
          ]
        }
      ]
    },
    {
      "cell_type": "markdown",
      "metadata": {
        "id": "8KcupiFsr4gr"
      },
      "source": [
        "Set loose permissions to avoid some reported file permissions issues"
      ]
    },
    {
      "cell_type": "code",
      "metadata": {
        "id": "QJBFXqQVX5AN"
      },
      "source": [
        "!chmod +777 /content/AI-Feynman/Code/*"
      ],
      "execution_count": 8,
      "outputs": []
    },
    {
      "cell_type": "markdown",
      "metadata": {
        "id": "pgzVt-kUrbmj"
      },
      "source": [
        "### Compile the fortran code"
      ]
    },
    {
      "cell_type": "markdown",
      "metadata": {
        "id": "4MotXJzusela"
      },
      "source": [
        "Look at the code directory"
      ]
    },
    {
      "cell_type": "code",
      "metadata": {
        "id": "xxzHegrIYa8e",
        "colab": {
          "base_uri": "https://localhost:8080/"
        },
        "outputId": "04916bc9-b4a4-43c4-b31f-c24668a19aa8"
      },
      "source": [
        "!ls -l /content/AI-Feynman/Code"
      ],
      "execution_count": 9,
      "outputs": [
        {
          "output_type": "stream",
          "name": "stdout",
          "text": [
            "total 1244\n",
            "-rwxrwxrwx 1 root root     11 Apr 13 10:56 10ops.txt\n",
            "-rwxrwxrwx 1 root root     15 Apr 13 10:56 14ops.txt\n",
            "-rwxrwxrwx 1 root root     19 Apr 13 10:56 19ops.txt\n",
            "-rwxrwxrwx 1 root root      8 Apr 13 10:56 7ops.txt\n",
            "-rwxrwxrwx 1 root root    138 Apr 13 10:56 ai_feynman_example.py\n",
            "-rwxrwxrwx 1 root root   1287 Apr 13 10:56 ai_feynman_terminal_example.py\n",
            "-rwxrwxrwx 1 root root 960508 Apr 13 10:56 arity2templates.txt\n",
            "-rwxrwxrwx 1 root root    653 Apr 13 10:56 brute_force_oneFile_mdl_v2.scr\n",
            "-rwxrwxrwx 1 root root    654 Apr 13 10:56 brute_force_oneFile_mdl_v3.scr\n",
            "-rwxrwxrwx 1 root root    541 Apr 13 10:56 brute_force_oneFile_v1.scr\n",
            "-rwxrwxrwx 1 root root    608 Apr 13 10:56 brute_force_oneFile_v2.scr\n",
            "-rwxrwxrwx 1 root root    609 Apr 13 10:56 brute_force_oneFile_v3.scr\n",
            "-rwxrwxrwx 1 root root    616 Apr 13 10:56 compile.sh\n",
            "-rwxrwxrwx 1 root root   4444 Apr 13 10:56 dimensionalAnalysis.py\n",
            "-rwxrwxrwx 1 root root   6168 Apr 13 10:56 get_pareto.py\n",
            "-rwxrwxrwx 1 root root   1745 Apr 13 10:56 getPowers.py\n",
            "-rwxrwxrwx 1 root root   2395 Apr 13 10:56 RPN_to_eq.py\n",
            "-rwxrwxrwx 1 root root   5232 Apr 13 10:56 RPN_to_pytorch.py\n",
            "-rwxrwxrwx 1 root root   5457 Apr 13 10:56 S_add_bf_on_numbers_on_pareto.py\n",
            "-rwxrwxrwx 1 root root   7962 Apr 13 10:56 S_add_snap_expr_on_pareto_polyfit.py\n",
            "-rwxrwxrwx 1 root root   9774 Apr 13 10:56 S_add_snap_expr_on_pareto.py\n",
            "-rwxrwxrwx 1 root root    902 Apr 13 10:56 S_add_sym_on_pareto.py\n",
            "-rwxrwxrwx 1 root root    627 Apr 13 10:56 S_brute_force_number.py\n",
            "-rwxrwxrwx 1 root root   1151 Apr 13 10:56 S_brute_force.py\n",
            "-rwxrwxrwx 1 root root   5519 Apr 13 10:56 S_change_output.py\n",
            "-rwxrwxrwx 1 root root   1509 Apr 13 10:56 S_combine_pareto.py\n",
            "-rwxrwxrwx 1 root root   5668 Apr 13 10:56 S_final_gd.py\n",
            "-rwxrwxrwx 1 root root    478 Apr 13 10:56 S_get_number_DL.py\n",
            "-rwxrwxrwx 1 root root    726 Apr 13 10:56 S_get_number_DL_snapped.py\n",
            "-rwxrwxrwx 1 root root   1857 Apr 13 10:56 S_get_symbolic_expr_error.py\n",
            "-rwxrwxrwx 1 root root   3789 Apr 13 10:56 S_NN_eval.py\n",
            "-rwxrwxrwx 1 root root   5052 Apr 13 10:56 S_NN_train.py\n",
            "-rwxrwxrwx 1 root root   2665 Apr 13 10:56 S_polyfit.py\n",
            "-rwxrwxrwx 1 root root   1537 Apr 13 10:56 S_polyfit_utils.py\n",
            "-rwxrwxrwx 1 root root   1259 Apr 13 10:56 S_remove_input_neuron.py\n",
            "-rwxrwxrwx 1 root root  11505 Apr 13 10:56 S_run_aifeynman.py\n",
            "-rwxrwxrwx 1 root root  12007 Apr 13 10:56 S_run_bf_polyfit.py\n",
            "-rwxrwxrwx 1 root root  14519 Apr 13 10:56 S_separability.py\n",
            "-rwxrwxrwx 1 root root   2570 Apr 13 10:56 S_snap.py\n",
            "-rwxrwxrwx 1 root root  20319 Apr 13 10:56 S_symmetry.py\n",
            "-rwxrwxrwx 1 root root   5247 Apr 13 10:56 symbolic_regress1.f\n",
            "-rwxrwxrwx 1 root root   9151 Apr 13 10:56 symbolic_regress2.f\n",
            "-rwxrwxrwx 1 root root   9141 Apr 13 10:56 symbolic_regress3.f\n",
            "-rwxrwxrwx 1 root root   8162 Apr 13 10:56 symbolic_regress_mdl2.f\n",
            "-rwxrwxrwx 1 root root   9135 Apr 13 10:56 symbolic_regress_mdl3.f\n",
            "-rwxrwxrwx 1 root root   9590 Apr 13 10:56 tools.f\n"
          ]
        }
      ]
    },
    {
      "cell_type": "markdown",
      "metadata": {
        "id": "jsdWh0MbsZ9e"
      },
      "source": [
        "Compile .f files into .x files"
      ]
    },
    {
      "cell_type": "code",
      "metadata": {
        "id": "cHJqLCM_dRzD"
      },
      "source": [
        "!cd /content/AI-Feynman/Code/ && ./compile.sh"
      ],
      "execution_count": 10,
      "outputs": []
    },
    {
      "cell_type": "markdown",
      "metadata": {
        "id": "4yfMwApUtwQT"
      },
      "source": [
        "### Run the first example from the AI-Feynman repository"
      ]
    },
    {
      "cell_type": "markdown",
      "metadata": {
        "id": "srBnePXLs2jT"
      },
      "source": [
        "Change working directory to the Code directory"
      ]
    },
    {
      "cell_type": "code",
      "metadata": {
        "id": "RsOEGP9-s0bq",
        "colab": {
          "base_uri": "https://localhost:8080/"
        },
        "outputId": "6a5edd32-3805-43c2-f035-f73e6477bb6d"
      },
      "source": [
        "import os\n",
        "os.chdir(\"/content/AI-Feynman/Code/\")\n",
        "print(os.getcwd())"
      ],
      "execution_count": 11,
      "outputs": [
        {
          "output_type": "stream",
          "name": "stdout",
          "text": [
            "/content/AI-Feynman/Code\n"
          ]
        }
      ]
    },
    {
      "cell_type": "code",
      "metadata": {
        "id": "Qg8AHI11tBqj",
        "colab": {
          "base_uri": "https://localhost:8080/"
        },
        "outputId": "ec2bd7dc-52a5-4e91-83d7-313fdc8c0c1d"
      },
      "source": [
        "!pwd"
      ],
      "execution_count": 12,
      "outputs": [
        {
          "output_type": "stream",
          "name": "stdout",
          "text": [
            "/content/AI-Feynman/Code\n"
          ]
        }
      ]
    },
    {
      "cell_type": "markdown",
      "metadata": {
        "id": "rjtWDJtoz9FM"
      },
      "source": [
        "Check that the bruteforce code runs without errors"
      ]
    },
    {
      "cell_type": "code",
      "metadata": {
        "id": "NBfG5D3VzLwU"
      },
      "source": [
        "from S_brute_force import brute_force\n",
        "brute_force(\"/content/AI-Feynman/example_data/\",\"example1.txt\",30,\"14ops.txt\")"
      ],
      "execution_count": null,
      "outputs": []
    },
    {
      "cell_type": "markdown",
      "metadata": {
        "id": "qCyuBoLNtjaM"
      },
      "source": [
        "Look at the first line of the example 1 file"
      ]
    },
    {
      "cell_type": "code",
      "metadata": {
        "id": "Ac-xU-H4tbud",
        "colab": {
          "base_uri": "https://localhost:8080/"
        },
        "outputId": "78109576-69c9-4da3-89ae-cba015de4ca1"
      },
      "source": [
        "!head -n 1 /content/AI-Feynman/example_data/example1.txt"
      ],
      "execution_count": 14,
      "outputs": [
        {
          "output_type": "stream",
          "name": "stdout",
          "text": [
            "1.6821347439986711 1.1786188905177983 4.749225735259924 1.3238356535004034 3.462199507094163 \n"
          ]
        }
      ]
    },
    {
      "cell_type": "code",
      "metadata": {
        "id": "cArs6MVap768",
        "colab": {
          "base_uri": "https://localhost:8080/"
        },
        "outputId": "fd5025e5-f202-40fa-a557-7023dc6f78ea"
      },
      "source": [
        "# Example 1 has data generated from an equation, where the last column is the regression target, and the rest of the columns are the input data\n",
        "# The following example shows the relationship between the first line of the file example1.txt and the formula used to make the data\n",
        "x=[1.6821347439986711,1.1786188905177983,4.749225735259924,1.3238356535004034,3.462199507094163]\n",
        "x0,x1,x2,x3=x[0],x[1],x[2],x[3]\n",
        "(x0**2 - 2*x0*x1 + x1**2 + x2**2 - 2*x2*x3 + x3**2)**0.5"
      ],
      "execution_count": 15,
      "outputs": [
        {
          "output_type": "execute_result",
          "data": {
            "text/plain": [
              "3.4621995070941636"
            ]
          },
          "metadata": {},
          "execution_count": 15
        }
      ]
    },
    {
      "cell_type": "markdown",
      "metadata": {
        "id": "OmFXwbhMt_Ra"
      },
      "source": [
        "Run the code. It takes a long time, so go get some coffee."
      ]
    },
    {
      "cell_type": "code",
      "metadata": {
        "id": "I6GEtqkYYwfF",
        "colab": {
          "base_uri": "https://localhost:8080/",
          "height": 1000
        },
        "outputId": "4a5455a0-9345-47b5-95a4-10b81f0bdc44"
      },
      "source": [
        "from S_run_aifeynman import run_aifeynman\n",
        "# Run example 1 as the regression dataset\n",
        "run_aifeynman(\"/content/AI-Feynman/example_data/\",\"example1.txt\",30,\"14ops.txt\", polyfit_deg=3, NN_epochs=400)"
      ],
      "execution_count": 16,
      "outputs": [
        {
          "output_type": "stream",
          "name": "stdout",
          "text": [
            "Checking for brute force + \n",
            "\n",
            "Checking for brute force * \n",
            "\n",
            "Checking polyfit \n",
            "\n",
            "Complexity  RMSE  Expression\n",
            "[47.562979702062755, 29.202197734806756, 2.07913923263550]\n",
            "[52.59853529906719, 29.151018099629226, cos(x0) + 2.5256495475769]\n",
            "[55.42189812029018, 29.08784369868447, cos(x2 + x3) + 1.88544464111328]\n",
            "[63.97127597744305, 28.649987892160933, '1.808310192134*(cos(((x3-x2)/pi)))**(-1)']\n",
            "[160.5644005046844, 28.640415855003297, cos(x0) - 0.970246255397797*cos(x2 - 0.988589286804199*x3) + 2.73600339889526]\n",
            "[203.30465809151343, 28.595909806367814, 1.72726595401764*cos(0.308475673973765*x2 - 0.308917786954999*x3)**(-1.17136168479919)]\n",
            "[662.477573157518, 27.13463669438936, '0.20219900404712*x0**2 - 0.443276811690271*x0*x1 - 0.000382391776437431*x0*x2 + 0.00169964128256163*x0*x3 + 0.115118423279149*x0 + 0.196276474715668*x1**2 + 0.00084035764459369*x1*x2 - 0.00207226702116732*x1*x3 + 0.161570451129413*x1 + 0.196851507650227*x2**2 - 0.446527963332354*x2*x3 + 0.157088501801624*x2 + 0.197558990304179*x3**2 + 0.154994588167382*x3 + 0.125217835669132']\n",
            "Checking for brute force + \n",
            "\n",
            "Checking for brute force * \n",
            "\n",
            "Checking polyfit \n",
            "\n",
            "Complexity  RMSE  Expression\n",
            "[0.0, 29.984953477925163, 'tan(-666.000000000000*sin(pi))']\n",
            "[40.393057897115405, 29.960953926938114, 'tan(-3.127155157913+pi)']\n",
            "[46.56066024005537, 27.132656284414992, 1.03789961338043]\n",
            "[46.560661068568066, 27.13265568837385, 1.03790020942688]\n",
            "[46.56071974975139, 27.132520262792212, 1.03794242656176]\n",
            "[108.37915874079104, 27.099564534995107, tan(sin((x2 + x3)**0.276050359010696) - 0.185653477907181)]\n",
            "[117.72619425204807, 27.04528766797025, 'tan(0.319991125039*(pi-sin((x0/x1))))']\n",
            "[202.12212356503082, 26.452089929398156, -0.984055459499359*tan(0.103650867938995*cos(x2 - 1.00542116165161*x3) - 0.828314302207644)]\n",
            "Checking for brute force + \n",
            "\n",
            "Checking for brute force * \n",
            "\n",
            "Checking polyfit \n",
            "\n",
            "Complexity  RMSE  Expression\n",
            "[0.0, 29.984953477925163, 'tan(-666.000000000000*sin(pi))']\n",
            "[40.393057897115405, 29.960953926938114, 'tan(-3.127155157913+pi)']\n",
            "[44.62165787095208, 28.758588251565484, -0.270680814981461]\n",
            "[46.56066024005537, 27.132656284414992, 1.03789961338043]\n",
            "[46.560661068568066, 27.13265568837385, 1.03790020942688]\n",
            "[46.56071974975139, 27.132520262792212, 1.03794242656176]\n",
            "[108.37915874079104, 27.099564534995107, tan(sin((x2 + x3)**0.276050359010696) - 0.185653477907181)]\n",
            "[117.72619425204807, 27.04528766797025, 'tan(0.319991125039*(pi-sin((x0/x1))))']\n",
            "[202.12212356503082, 26.452089929398156, -0.984055459499359*tan(0.103650867938995*cos(x2 - 1.00542116165161*x3) - 0.828314302207644)]\n",
            "Checking for brute force + \n",
            "\n",
            "Checking for brute force * \n",
            "\n",
            "Checking polyfit \n",
            "\n",
            "Complexity  RMSE  Expression\n",
            "[0.0, 29.984953477925163, 'tan(-666.000000000000*sin(pi))']\n",
            "[40.393057897115405, 29.960953926938114, 'tan(-3.127155157913+pi)']\n",
            "[44.62165787095208, 28.758588251565484, -0.270680814981461]\n",
            "[46.56066024005537, 27.132656284414992, 1.03789961338043]\n",
            "[46.560661068568066, 27.13265568837385, 1.03790020942688]\n",
            "[46.56071974975139, 27.132520262792212, 1.03794242656176]\n",
            "[108.37915874079104, 27.099564534995107, tan(sin((x2 + x3)**0.276050359010696) - 0.185653477907181)]\n",
            "[117.72619425204807, 27.04528766797025, 'tan(0.319991125039*(pi-sin((x0/x1))))']\n",
            "[202.12212356503082, 26.452089929398156, -0.984055459499359*tan(0.103650867938995*cos(x2 - 1.00542116165161*x3) - 0.828314302207644)]\n",
            "Checking for brute force + \n",
            "\n",
            "Checking for brute force * \n",
            "\n",
            "Checking polyfit \n",
            "\n",
            "Complexity  RMSE  Expression\n",
            "[0.0, 29.984953477925163, 'tan(-666.000000000000*sin(pi))']\n",
            "[32.00876552846736, 28.138150130936637, '1/(-0.934925954011+x1)']\n",
            "[46.07288948915981, 28.116547126132737, 0.740153373883069]\n",
            "[46.56066024005537, 27.132656284414992, 1.03789961338043]\n",
            "[46.560661068568066, 27.13265568837385, 1.03790020942688]\n",
            "[46.56071974975139, 27.132520262792212, 1.03794242656176]\n",
            "[108.37915874079104, 27.099564534995107, tan(sin((x2 + x3)**0.276050359010696) - 0.185653477907181)]\n",
            "[117.72619425204807, 27.04528766797025, 'tan(0.319991125039*(pi-sin((x0/x1))))']\n",
            "[202.12212356503082, 26.452089929398156, -0.984055459499359*tan(0.103650867938995*cos(x2 - 1.00542116165161*x3) - 0.828314302207644)]\n",
            "Checking for brute force + \n",
            "\n",
            "Checking for brute force * \n",
            "\n",
            "Checking polyfit \n",
            "\n",
            "Complexity  RMSE  Expression\n",
            "[0.0, 29.984953477925163, 'tan(-666.000000000000*sin(pi))']\n",
            "[28.872230928918942, 29.200520561180888, -4.91368770952076e-6]\n",
            "[32.00876552846736, 28.138150130936637, '1/(-0.934925954011+x1)']\n",
            "[46.07288948915981, 28.116547126132737, 0.740153373883069]\n",
            "[46.56066024005537, 27.132656284414992, 1.03789961338043]\n",
            "[46.560661068568066, 27.13265568837385, 1.03790020942688]\n",
            "[46.56071974975139, 27.132520262792212, 1.03794242656176]\n",
            "[108.37915874079104, 27.099564534995107, tan(sin((x2 + x3)**0.276050359010696) - 0.185653477907181)]\n",
            "[117.72619425204807, 27.04528766797025, 'tan(0.319991125039*(pi-sin((x0/x1))))']\n",
            "[202.12212356503082, 26.452089929398156, -0.984055459499359*tan(0.103650867938995*cos(x2 - 1.00542116165161*x3) - 0.828314302207644)]\n",
            "Checking for brute force + \n",
            "\n",
            "Checking for brute force * \n",
            "\n",
            "Checking polyfit \n",
            "\n",
            "Complexity  RMSE  Expression\n",
            "[0.0, 29.984953477925163, 'tan(-666.000000000000*sin(pi))']\n",
            "[28.872230928918942, 29.200520561180888, -4.91368770952076e-6]\n",
            "[28.88485156251213, 29.114291886173916, 'asin(-0.000004956861+(x1*sin(pi)))']\n",
            "[32.00876552846736, 28.138150130936637, '1/(-0.934925954011+x1)']\n",
            "[46.07288948915981, 28.116547126132737, 0.740153373883069]\n",
            "[46.56066024005537, 27.132656284414992, 1.03789961338043]\n",
            "[46.560661068568066, 27.13265568837385, 1.03790020942688]\n",
            "[46.56071974975139, 27.132520262792212, 1.03794242656176]\n",
            "[108.37915874079104, 27.099564534995107, tan(sin((x2 + x3)**0.276050359010696) - 0.185653477907181)]\n",
            "[117.72619425204807, 27.04528766797025, 'tan(0.319991125039*(pi-sin((x0/x1))))']\n",
            "[202.12212356503082, 26.452089929398156, -0.984055459499359*tan(0.103650867938995*cos(x2 - 1.00542116165161*x3) - 0.828314302207644)]\n",
            "Checking for brute force + \n",
            "\n",
            "Checking for brute force * \n",
            "\n",
            "Checking polyfit \n",
            "\n",
            "Complexity  RMSE  Expression\n",
            "[0.0, 29.984953477925163, 'tan(-666.000000000000*sin(pi))']\n",
            "[28.872230928918942, 29.200520561180888, -4.91368770952076e-6]\n",
            "[28.88485156251213, 29.114291886173916, 'asin(-0.000004956861+(x1*sin(pi)))']\n",
            "[32.00876552846736, 28.138150130936637, '1/(-0.934925954011+x1)']\n",
            "[46.07288948915981, 28.116547126132737, 0.740153373883069]\n",
            "[46.56066024005537, 27.132656284414992, 1.03789961338043]\n",
            "[46.560661068568066, 27.13265568837385, 1.03790020942688]\n",
            "[46.56071974975139, 27.132520262792212, 1.03794242656176]\n",
            "[108.37915874079104, 27.099564534995107, tan(sin((x2 + x3)**0.276050359010696) - 0.185653477907181)]\n",
            "[117.72619425204807, 27.04528766797025, 'tan(0.319991125039*(pi-sin((x0/x1))))']\n",
            "[202.12212356503082, 26.452089929398156, -0.984055459499359*tan(0.103650867938995*cos(x2 - 1.00542116165161*x3) - 0.828314302207644)]\n",
            "Checking for brute force + \n",
            "\n",
            "Checking for brute force * \n",
            "\n",
            "Checking polyfit \n",
            "\n",
            "Complexity  RMSE  Expression\n",
            "[0.0, 29.984953477925163, 'tan(-666.000000000000*sin(pi))']\n",
            "[28.872230928918942, 29.200520561180888, -4.91368770952076e-6]\n",
            "[28.88485156251213, 29.114291886173916, 'asin(-0.000004956861+(x1*sin(pi)))']\n",
            "[32.00876552846736, 28.138150130936637, '1/(-0.934925954011+x1)']\n",
            "[46.07288948915981, 28.116547126132737, 0.740153373883069]\n",
            "[46.56066024005537, 27.132656284414992, 1.03789961338043]\n",
            "[46.560661068568066, 27.13265568837385, 1.03790020942688]\n",
            "[46.56071974975139, 27.132520262792212, 1.03794242656176]\n",
            "[108.37915874079104, 27.099564534995107, tan(sin((x2 + x3)**0.276050359010696) - 0.185653477907181)]\n",
            "[117.72619425204807, 27.04528766797025, 'tan(0.319991125039*(pi-sin((x0/x1))))']\n",
            "[202.12212356503082, 26.452089929398156, -0.984055459499359*tan(0.103650867938995*cos(x2 - 1.00542116165161*x3) - 0.828314302207644)]\n",
            "Checking for brute force + \n",
            "\n",
            "Checking for brute force * \n",
            "\n",
            "Checking polyfit \n",
            "\n",
            "Complexity  RMSE  Expression\n",
            "[0.0, 29.984953477925163, 'tan(-666.000000000000*sin(pi))']\n",
            "[28.872230928918942, 29.200520561180888, -4.91368770952076e-6]\n",
            "[28.88485156251213, 29.114291886173916, 'asin(-0.000004956861+(x1*sin(pi)))']\n",
            "[32.00876552846736, 28.138150130936637, '1/(-0.934925954011+x1)']\n",
            "[46.07288948915981, 28.116547126132737, 0.740153373883069]\n",
            "[46.56066024005537, 27.132656284414992, 1.03789961338043]\n",
            "[46.560661068568066, 27.13265568837385, 1.03790020942688]\n",
            "[46.56071974975139, 27.132520262792212, 1.03794242656176]\n",
            "[108.37915874079104, 27.099564534995107, tan(sin((x2 + x3)**0.276050359010696) - 0.185653477907181)]\n",
            "[117.72619425204807, 27.04528766797025, 'tan(0.319991125039*(pi-sin((x0/x1))))']\n",
            "[202.12212356503082, 26.452089929398156, -0.984055459499359*tan(0.103650867938995*cos(x2 - 1.00542116165161*x3) - 0.828314302207644)]\n",
            "Checking for symmetry \n",
            " example1.txt_train\n",
            "Training a NN on the data... \n",
            "\n",
            "tensor(0.0324, device='cuda:0', grad_fn=<DivBackward0>)\n",
            "tensor(0.0351, device='cuda:0', grad_fn=<DivBackward0>)\n",
            "tensor(0.0304, device='cuda:0', grad_fn=<DivBackward0>)\n",
            "tensor(0.0214, device='cuda:0', grad_fn=<DivBackward0>)\n",
            "NN loss:  tensor(0.0048, device='cuda:0', grad_fn=<DivBackward0>) \n",
            "\n"
          ]
        },
        {
          "output_type": "error",
          "ename": "TypeError",
          "evalue": "ignored",
          "traceback": [
            "\u001b[0;31m---------------------------------------------------------------------------\u001b[0m",
            "\u001b[0;31mTypeError\u001b[0m                                 Traceback (most recent call last)",
            "\u001b[0;32m<ipython-input-16-a725bd8946b0>\u001b[0m in \u001b[0;36m<cell line: 3>\u001b[0;34m()\u001b[0m\n\u001b[1;32m      1\u001b[0m \u001b[0;32mfrom\u001b[0m \u001b[0mS_run_aifeynman\u001b[0m \u001b[0;32mimport\u001b[0m \u001b[0mrun_aifeynman\u001b[0m\u001b[0;34m\u001b[0m\u001b[0;34m\u001b[0m\u001b[0m\n\u001b[1;32m      2\u001b[0m \u001b[0;31m# Run example 1 as the regression dataset\u001b[0m\u001b[0;34m\u001b[0m\u001b[0;34m\u001b[0m\u001b[0m\n\u001b[0;32m----> 3\u001b[0;31m \u001b[0mrun_aifeynman\u001b[0m\u001b[0;34m(\u001b[0m\u001b[0;34m\"/content/AI-Feynman/example_data/\"\u001b[0m\u001b[0;34m,\u001b[0m\u001b[0;34m\"example1.txt\"\u001b[0m\u001b[0;34m,\u001b[0m\u001b[0;36m30\u001b[0m\u001b[0;34m,\u001b[0m\u001b[0;34m\"14ops.txt\"\u001b[0m\u001b[0;34m,\u001b[0m \u001b[0mpolyfit_deg\u001b[0m\u001b[0;34m=\u001b[0m\u001b[0;36m3\u001b[0m\u001b[0;34m,\u001b[0m \u001b[0mNN_epochs\u001b[0m\u001b[0;34m=\u001b[0m\u001b[0;36m400\u001b[0m\u001b[0;34m)\u001b[0m\u001b[0;34m\u001b[0m\u001b[0;34m\u001b[0m\u001b[0m\n\u001b[0m",
            "\u001b[0;32m/content/AI-Feynman/Code/S_run_aifeynman.py\u001b[0m in \u001b[0;36mrun_aifeynman\u001b[0;34m(pathdir, filename, BF_try_time, BF_ops_file_type, polyfit_deg, NN_epochs, vars_name, test_percentage)\u001b[0m\n\u001b[1;32m    163\u001b[0m     \u001b[0mPA\u001b[0m \u001b[0;34m=\u001b[0m \u001b[0mParetoSet\u001b[0m\u001b[0;34m(\u001b[0m\u001b[0;34m)\u001b[0m\u001b[0;34m\u001b[0m\u001b[0;34m\u001b[0m\u001b[0m\n\u001b[1;32m    164\u001b[0m     \u001b[0;31m# Run the code on the train data\u001b[0m\u001b[0;34m\u001b[0m\u001b[0;34m\u001b[0m\u001b[0m\n\u001b[0;32m--> 165\u001b[0;31m     \u001b[0mPA\u001b[0m \u001b[0;34m=\u001b[0m \u001b[0mrun_AI_all\u001b[0m\u001b[0;34m(\u001b[0m\u001b[0mpathdir\u001b[0m\u001b[0;34m,\u001b[0m\u001b[0mfilename\u001b[0m\u001b[0;34m+\u001b[0m\u001b[0;34m\"_train\"\u001b[0m\u001b[0;34m,\u001b[0m\u001b[0mBF_try_time\u001b[0m\u001b[0;34m,\u001b[0m\u001b[0mBF_ops_file_type\u001b[0m\u001b[0;34m,\u001b[0m \u001b[0mpolyfit_deg\u001b[0m\u001b[0;34m,\u001b[0m \u001b[0mNN_epochs\u001b[0m\u001b[0;34m,\u001b[0m \u001b[0mPA\u001b[0m\u001b[0;34m=\u001b[0m\u001b[0mPA\u001b[0m\u001b[0;34m)\u001b[0m\u001b[0;34m\u001b[0m\u001b[0;34m\u001b[0m\u001b[0m\n\u001b[0m\u001b[1;32m    166\u001b[0m     \u001b[0mPA_list\u001b[0m \u001b[0;34m=\u001b[0m \u001b[0mPA\u001b[0m\u001b[0;34m.\u001b[0m\u001b[0mget_pareto_points\u001b[0m\u001b[0;34m(\u001b[0m\u001b[0;34m)\u001b[0m\u001b[0;34m\u001b[0m\u001b[0;34m\u001b[0m\u001b[0m\n\u001b[1;32m    167\u001b[0m \u001b[0;34m\u001b[0m\u001b[0m\n",
            "\u001b[0;32m/content/AI-Feynman/Code/S_run_aifeynman.py\u001b[0m in \u001b[0;36mrun_AI_all\u001b[0;34m(pathdir, filename, BF_try_time, BF_ops_file_type, polyfit_deg, NN_epochs, PA)\u001b[0m\n\u001b[1;32m     83\u001b[0m         \u001b[0midx_min\u001b[0m \u001b[0;34m=\u001b[0m \u001b[0;34m-\u001b[0m\u001b[0;36m1\u001b[0m\u001b[0;34m\u001b[0m\u001b[0;34m\u001b[0m\u001b[0m\n\u001b[1;32m     84\u001b[0m     \u001b[0;32melse\u001b[0m\u001b[0;34m:\u001b[0m\u001b[0;34m\u001b[0m\u001b[0;34m\u001b[0m\u001b[0m\n\u001b[0;32m---> 85\u001b[0;31m         \u001b[0midx_min\u001b[0m \u001b[0;34m=\u001b[0m \u001b[0mnp\u001b[0m\u001b[0;34m.\u001b[0m\u001b[0margmin\u001b[0m\u001b[0;34m(\u001b[0m\u001b[0mnp\u001b[0m\u001b[0;34m.\u001b[0m\u001b[0marray\u001b[0m\u001b[0;34m(\u001b[0m\u001b[0;34m[\u001b[0m\u001b[0msymmetry_plus_result\u001b[0m\u001b[0;34m[\u001b[0m\u001b[0;36m0\u001b[0m\u001b[0;34m]\u001b[0m\u001b[0;34m,\u001b[0m \u001b[0msymmetry_minus_result\u001b[0m\u001b[0;34m[\u001b[0m\u001b[0;36m0\u001b[0m\u001b[0;34m]\u001b[0m\u001b[0;34m,\u001b[0m \u001b[0msymmetry_multiply_result\u001b[0m\u001b[0;34m[\u001b[0m\u001b[0;36m0\u001b[0m\u001b[0;34m]\u001b[0m\u001b[0;34m,\u001b[0m \u001b[0msymmetry_divide_result\u001b[0m\u001b[0;34m[\u001b[0m\u001b[0;36m0\u001b[0m\u001b[0;34m]\u001b[0m\u001b[0;34m,\u001b[0m \u001b[0mseparability_plus_result\u001b[0m\u001b[0;34m[\u001b[0m\u001b[0;36m0\u001b[0m\u001b[0;34m]\u001b[0m\u001b[0;34m,\u001b[0m \u001b[0mseparability_multiply_result\u001b[0m\u001b[0;34m[\u001b[0m\u001b[0;36m0\u001b[0m\u001b[0;34m]\u001b[0m\u001b[0;34m]\u001b[0m\u001b[0;34m)\u001b[0m\u001b[0;34m)\u001b[0m\u001b[0;34m\u001b[0m\u001b[0;34m\u001b[0m\u001b[0m\n\u001b[0m\u001b[1;32m     86\u001b[0m \u001b[0;34m\u001b[0m\u001b[0m\n\u001b[1;32m     87\u001b[0m     \u001b[0;31m# Apply the best symmetry/separability and rerun the main function on this new file\u001b[0m\u001b[0;34m\u001b[0m\u001b[0;34m\u001b[0m\u001b[0m\n",
            "\u001b[0;32m/usr/local/lib/python3.9/dist-packages/torch/_tensor.py\u001b[0m in \u001b[0;36m__array__\u001b[0;34m(self, dtype)\u001b[0m\n\u001b[1;32m    968\u001b[0m             \u001b[0;32mreturn\u001b[0m \u001b[0mhandle_torch_function\u001b[0m\u001b[0;34m(\u001b[0m\u001b[0mTensor\u001b[0m\u001b[0;34m.\u001b[0m\u001b[0m__array__\u001b[0m\u001b[0;34m,\u001b[0m \u001b[0;34m(\u001b[0m\u001b[0mself\u001b[0m\u001b[0;34m,\u001b[0m\u001b[0;34m)\u001b[0m\u001b[0;34m,\u001b[0m \u001b[0mself\u001b[0m\u001b[0;34m,\u001b[0m \u001b[0mdtype\u001b[0m\u001b[0;34m=\u001b[0m\u001b[0mdtype\u001b[0m\u001b[0;34m)\u001b[0m\u001b[0;34m\u001b[0m\u001b[0;34m\u001b[0m\u001b[0m\n\u001b[1;32m    969\u001b[0m         \u001b[0;32mif\u001b[0m \u001b[0mdtype\u001b[0m \u001b[0;32mis\u001b[0m \u001b[0;32mNone\u001b[0m\u001b[0;34m:\u001b[0m\u001b[0;34m\u001b[0m\u001b[0;34m\u001b[0m\u001b[0m\n\u001b[0;32m--> 970\u001b[0;31m             \u001b[0;32mreturn\u001b[0m \u001b[0mself\u001b[0m\u001b[0;34m.\u001b[0m\u001b[0mnumpy\u001b[0m\u001b[0;34m(\u001b[0m\u001b[0;34m)\u001b[0m\u001b[0;34m\u001b[0m\u001b[0;34m\u001b[0m\u001b[0m\n\u001b[0m\u001b[1;32m    971\u001b[0m         \u001b[0;32melse\u001b[0m\u001b[0;34m:\u001b[0m\u001b[0;34m\u001b[0m\u001b[0;34m\u001b[0m\u001b[0m\n\u001b[1;32m    972\u001b[0m             \u001b[0;32mreturn\u001b[0m \u001b[0mself\u001b[0m\u001b[0;34m.\u001b[0m\u001b[0mnumpy\u001b[0m\u001b[0;34m(\u001b[0m\u001b[0;34m)\u001b[0m\u001b[0;34m.\u001b[0m\u001b[0mastype\u001b[0m\u001b[0;34m(\u001b[0m\u001b[0mdtype\u001b[0m\u001b[0;34m,\u001b[0m \u001b[0mcopy\u001b[0m\u001b[0;34m=\u001b[0m\u001b[0;32mFalse\u001b[0m\u001b[0;34m)\u001b[0m\u001b[0;34m\u001b[0m\u001b[0;34m\u001b[0m\u001b[0m\n",
            "\u001b[0;31mTypeError\u001b[0m: can't convert cuda:0 device type tensor to numpy. Use Tensor.cpu() to copy the tensor to host memory first."
          ]
        }
      ]
    },
    {
      "cell_type": "markdown",
      "metadata": {
        "id": "qC1qzqP-uMmP"
      },
      "source": [
        "### Assess the results"
      ]
    },
    {
      "cell_type": "code",
      "metadata": {
        "id": "6_t9u4eOZdYf"
      },
      "source": [
        "!cat results.dat "
      ],
      "execution_count": null,
      "outputs": []
    },
    {
      "cell_type": "markdown",
      "metadata": {
        "id": "V75LJuObuXnx"
      },
      "source": [
        "We found a candidate with an excellent fit, let's see what we got"
      ]
    },
    {
      "cell_type": "code",
      "metadata": {
        "id": "Irdi5kFSeY6a"
      },
      "source": [
        "!ls -l /content/AI-Feynman/Code/results/"
      ],
      "execution_count": null,
      "outputs": []
    },
    {
      "cell_type": "code",
      "metadata": {
        "id": "i4Hb-1mfZ40K"
      },
      "source": [
        "!ls -l /content/AI-Feynman/Code/results/NN_trained_models/models"
      ],
      "execution_count": null,
      "outputs": []
    },
    {
      "cell_type": "code",
      "metadata": {
        "id": "T-_FGDrKZ-UK"
      },
      "source": [
        "!cat /content/AI-Feynman/Code/results/solution_example1.txt"
      ],
      "execution_count": null,
      "outputs": []
    },
    {
      "cell_type": "markdown",
      "metadata": {
        "id": "wlPb6mmUuiVx"
      },
      "source": [
        "Note in the cell above that the solution with the lowest error is the formula this data was generated from"
      ]
    },
    {
      "cell_type": "markdown",
      "metadata": {
        "id": "jEW676sLuyby"
      },
      "source": [
        "### Try our own dataset generation and equation learning"
      ]
    },
    {
      "cell_type": "markdown",
      "metadata": {
        "id": "dPhMWSuKvV-d"
      },
      "source": [
        "The code below generates our regression example dataset\n",
        "\n",
        "We generate points for 4 columns, where x0 is from the same equation as x1, and x2 is from the same equation as x3\n",
        "The last column is Y"
      ]
    },
    {
      "cell_type": "code",
      "metadata": {
        "id": "5y4iD0fvbFEz"
      },
      "source": [
        "import os\n",
        "import random\n",
        "\n",
        "os.chdir(\"/content/AI-Feynman/example_data\")\n",
        "\n",
        "def getY(x01,x23):\n",
        "  y = -0.5*x01+0.5*x23+3\n",
        "  return y\n",
        "\n",
        "def getRow():\n",
        "  [x0,x2]=[random.random() for x in range(2)]\n",
        "  x1=x0\n",
        "  x3=x2\n",
        "  y=getY(x1,x3)\n",
        "  return str(x0)+\" \"+str(x1)+\" \"+str(x2)+\" \"+str(x3)+\" \"+str(y)+\"\\n\"\n",
        "\n",
        "with open(\"duplicateVarsExample.txt\", \"w\") as f:\n",
        "  for _ in range(10000):\n",
        "    f.write(getRow())\n",
        "f.close()\n",
        "\n",
        "# switch back to the code directory\n",
        "os.chdir(\"/content/AI-Feynman/Code\")"
      ],
      "execution_count": null,
      "outputs": []
    },
    {
      "cell_type": "markdown",
      "metadata": {
        "id": "rffFg4OeEWzg"
      },
      "source": [
        "Let's look at our data"
      ]
    },
    {
      "cell_type": "code",
      "metadata": {
        "id": "EMHOxgMtmNCv"
      },
      "source": [
        "!head -n 10 ../example_data/duplicateVarsExample.txt"
      ],
      "execution_count": null,
      "outputs": []
    },
    {
      "cell_type": "markdown",
      "metadata": {
        "id": "irYPRgZWxzp2"
      },
      "source": [
        "Let's also plot the data for x01 and x23 against Y"
      ]
    },
    {
      "cell_type": "code",
      "metadata": {
        "id": "0rhkKvDxnTTx"
      },
      "source": [
        "%matplotlib inline\n",
        "import matplotlib.pyplot as plt\n",
        "import pandas as pd\n",
        "plt.style.use('seaborn-whitegrid')\n",
        "import numpy as np\n",
        "\n",
        "df=pd.read_csv(\"../example_data/duplicateVarsExample.txt\",sep=\" \",header=None)\n",
        "df.plot.scatter(x=0, y=4)\n",
        "df.plot.scatter(x=2, y=4)"
      ],
      "execution_count": null,
      "outputs": []
    },
    {
      "cell_type": "markdown",
      "metadata": {
        "id": "DHwDA3S7yXHa"
      },
      "source": [
        "Now we run the experiment, and go get more coffee, because this is not going to be fast..."
      ]
    },
    {
      "cell_type": "code",
      "metadata": {
        "id": "r__k40topc3Q"
      },
      "source": [
        "from S_run_aifeynman import run_aifeynman\n",
        "run_aifeynman(\"/content/AI-Feynman/example_data/\",\"duplicateVarsExample.txt\",30,\"14ops.txt\", polyfit_deg=3, NN_epochs=400)"
      ],
      "execution_count": null,
      "outputs": []
    },
    {
      "cell_type": "markdown",
      "metadata": {
        "id": "N68vBSQS23lc"
      },
      "source": [
        "Initial models quickly mapped to x0 and x2 (the system realized x1 and x3 are duplicates and so not needed)\n",
        "\n",
        "Later on the system found 3.000000000000+log(sqrt(exp((x2-x1)))) which is a bit crazy but looks like a plane\n",
        "\n",
        "We can see on Wolfram alpha that an equivalent form of this equation is:\n",
        "\n",
        "(x2 - x1)/2 + 3.000000000000 \n",
        "\n",
        "which is what we used to generate the dataset!\n",
        "\n",
        "Link: https://www.wolframalpha.com/input/?i=3.000000000000%2Blog%28sqrt%28exp%28%28x2-x1%29%29%29%29"
      ]
    },
    {
      "cell_type": "code",
      "metadata": {
        "id": "YSnT1Gg03BST"
      },
      "source": [
        "!ls -l /content/AI-Feynman/Code/results/"
      ],
      "execution_count": null,
      "outputs": []
    },
    {
      "cell_type": "code",
      "metadata": {
        "id": "rfPnJPCaA6WW"
      },
      "source": [
        "!cat /content/AI-Feynman/Code/results/solution_duplicateVarsExample.txt"
      ],
      "execution_count": null,
      "outputs": []
    },
    {
      "cell_type": "markdown",
      "metadata": {
        "id": "Lr7TWHpdAzKP"
      },
      "source": [
        "The solver settled on *log(sqrt(exp(-x1 + x3))) + 3.0* which we know is correct\n",
        "\n",
        "Now, that was a bit of a softball problem as it has an exact solution. Let's now add noise to the dataset and see how the library holds up"
      ]
    },
    {
      "cell_type": "markdown",
      "metadata": {
        "id": "BBx752pb3gA6"
      },
      "source": [
        "### Let's add small amount of noise to every variabe and see the fit quality"
      ]
    },
    {
      "cell_type": "markdown",
      "metadata": {
        "id": "sxD1DilJBf2a"
      },
      "source": [
        "We do the same thing as before, but now we add or subtract noise to x0,x1,x2,x3 after generating y"
      ]
    },
    {
      "cell_type": "code",
      "metadata": {
        "id": "nEWAmNke3nuM"
      },
      "source": [
        "import os\n",
        "import random\n",
        "import numpy as np\n",
        "\n",
        "os.chdir(\"/content/AI-Feynman/example_data\")\n",
        "\n",
        "def getY(x01,x23):\n",
        "  y = -0.5*x01+0.5*x23+3\n",
        "  return y\n",
        "\n",
        "def getRow():\n",
        "  x=[random.random() for x in range(4)]\n",
        "  x[1]=x[0]\n",
        "  x[3]=x[2]\n",
        "  y=getY(x[1],x[3])\n",
        "  mu=0\n",
        "  sigma=0.05\n",
        "  noise=np.random.normal(mu, sigma, 4)\n",
        "  x=x+noise\n",
        "  return str(x[0])+\" \"+str(x[1])+\" \"+str(x[2])+\" \"+str(x[3])+\" \"+str(y)+\"\\n\"\n",
        "\n",
        "with open(\"duplicateVarsWithNoise100k.txt\", \"w\") as f:\n",
        "  for _ in range(100000):\n",
        "    f.write(getRow())\n",
        "f.close()\n",
        "\n",
        "# switch back to the code directory\n",
        "os.chdir(\"/content/AI-Feynman/Code\")"
      ],
      "execution_count": null,
      "outputs": []
    },
    {
      "cell_type": "markdown",
      "metadata": {
        "id": "GhKiDHU4Eau_"
      },
      "source": [
        "Let's have a look at the data"
      ]
    },
    {
      "cell_type": "code",
      "metadata": {
        "id": "r66strV1DrLD",
        "colab": {
          "base_uri": "https://localhost:8080/",
          "height": 357
        },
        "outputId": "9f1a0449-16a1-428f-80c0-93b2ba78eb9e"
      },
      "source": [
        "!head -n 20 ../example_data/duplicateVarsWithNoise100k.txt"
      ],
      "execution_count": null,
      "outputs": [
        {
          "output_type": "stream",
          "text": [
            "0.15289264209469416 0.2829966068992473 0.6104708312181512 0.6043475260663228 3.1975315738942793\n",
            "0.889285380442479 0.9334684862177808 0.7503770699358906 0.6608418489900274 2.9144971423535893\n",
            "0.2755136981909549 0.23872363192436755 0.12637188597533267 0.08056372950063607 2.9518503868124246\n",
            "0.1746018418681348 0.12293457415378542 0.730846042126973 0.7463969158741828 3.274905931620777\n",
            "0.5491081265500859 0.5925961897911269 0.5997213933783978 0.5691240548756916 3.009675563632133\n",
            "0.6541729091302784 0.5836870480773635 0.7569529739603265 0.7674199995325519 3.0879595773602\n",
            "0.6946624498902666 0.7118597307891784 1.0358559774610916 1.0531623867719622 3.1207790611578794\n",
            "-0.07267132738470411 -0.041052948940529854 0.7707588567223276 0.7377414287774727 3.386093829729029\n",
            "0.31596844939707514 0.3051532368104879 0.6287666259268113 0.6019744696452333 3.1619212177846743\n",
            "0.14376489597328382 0.18788171663748351 0.2846780763048972 0.15587657746217742 3.0821567923558666\n",
            "0.3070047932793547 0.38652507330989566 0.8271239706001838 0.8949181221047366 3.22577943807369\n",
            "0.5871748599603506 0.6602956781618085 0.29973184106901357 0.25791371170072325 2.835003115420615\n",
            "0.43800401047649645 0.32947804395957103 0.3682691548056269 0.24714297128692714 2.9800417721657615\n",
            "0.1254273424145693 0.14157662103949706 0.8807568211022817 0.8084230170674015 3.3442467468171655\n",
            "0.9977537165401619 0.9278112365525913 0.5592521791775596 0.593560782176473 2.777906203752021\n",
            "0.7572850545702291 0.7221682080521802 0.48574977573125355 0.5764482752359664 2.9096304597404288\n",
            "0.35276643237768185 0.4102574749650775 0.9856930460033216 0.8552731652578567 3.2385588053397685\n",
            "-0.005510655610422549 0.035493948545520744 0.21758172335269305 0.3063357976367751 3.1051776697845406\n",
            "0.6609420239853631 0.6193812482403003 0.013227209160003538 0.051390933994947846 2.6921415133801245\n",
            "0.7565010242615771 0.811774832575652 0.12333167276991808 0.02394317239107912 2.676764905439099\n"
          ],
          "name": "stdout"
        }
      ]
    },
    {
      "cell_type": "markdown",
      "metadata": {
        "id": "EK45_2NtEquA"
      },
      "source": [
        "Now let's plot the data"
      ]
    },
    {
      "cell_type": "code",
      "metadata": {
        "id": "yeHBIS9DEc8H",
        "colab": {
          "base_uri": "https://localhost:8080/",
          "height": 1000
        },
        "outputId": "9854db14-e934-4e37-aa05-80b0ee3e410e"
      },
      "source": [
        "%matplotlib inline\n",
        "import matplotlib.pyplot as plt\n",
        "import pandas as pd\n",
        "plt.style.use('seaborn-whitegrid')\n",
        "import numpy as np\n",
        "\n",
        "df=pd.read_csv(\"../example_data/duplicateVarsWithNoise100k.txt\",sep=\" \",header=None)\n",
        "df.plot.scatter(x=0, y=4)\n",
        "df.plot.scatter(x=1, y=4)\n",
        "df.plot.scatter(x=2, y=4)\n",
        "df.plot.scatter(x=3, y=4)"
      ],
      "execution_count": null,
      "outputs": [
        {
          "output_type": "execute_result",
          "data": {
            "text/plain": [
              "<matplotlib.axes._subplots.AxesSubplot at 0x7f49c72480f0>"
            ]
          },
          "metadata": {
            "tags": []
          },
          "execution_count": 18
        },
        {
          "output_type": "display_data",
          "data": {
            "image/png": "[encoded data removed]",
            "text/plain": [
              "<Figure size 432x288 with 1 Axes>"
            ]
          },
          "metadata": {
            "tags": []
          }
        },
        {
          "output_type": "display_data",
          "data": {
            "image/png": "[encoded data removed]",
            "text/plain": [
              "<Figure size 432x288 with 1 Axes>"
            ]
          },
          "metadata": {
            "tags": []
          }
        },
        {
          "output_type": "display_data",
          "data": {
            "image/png": "[encoded data removed]",
            "text/plain": [
              "<Figure size 432x288 with 1 Axes>"
            ]
          },
          "metadata": {
            "tags": []
          }
        },
        {
          "output_type": "display_data",
          "data": {
            "image/png": "[encoded data removed]",
            "text/plain": [
              "<Figure size 432x288 with 1 Axes>"
            ]
          },
          "metadata": {
            "tags": []
          }
        }
      ]
    },
    {
      "cell_type": "code",
      "metadata": {
        "id": "3WaejzZWEwMx",
        "colab": {
          "base_uri": "https://localhost:8080/",
          "height": 1000
        },
        "outputId": "297dbadd-5fef-4dfe-ca7c-e5abc39209ad"
      },
      "source": [
        "from S_run_aifeynman import run_aifeynman\n",
        "run_aifeynman(\"/content/AI-Feynman/example_data/\",\"duplicateVarsWithNoise100k.txt\",30,\"14ops.txt\", polyfit_deg=3, NN_epochs=600)"
      ],
      "execution_count": null,
      "outputs": [
        {
          "output_type": "stream",
          "text": [
            "Checking for brute force + \n",
            "\n",
            "Checking for brute force * \n",
            "\n",
            "Checking polyfit \n",
            "\n",
            "Complexity  RMSE  Expression\n",
            "[14.298543993057573, 31.581628067077556, -2.01507231217991e-10]\n",
            "[33.65148445440323, 23.756310705463807, '-0.25*x0 - 0.25*x1 + 0.25*x2 + 0.25*x3 + 3']\n",
            "Checking for brute force + \n",
            "\n",
            "Checking for brute force * \n",
            "\n",
            "Checking polyfit \n",
            "\n",
            "Complexity  RMSE  Expression\n",
            "[14.298543993057573, 31.581628067077556, -2.01507231217991e-10]\n",
            "[33.65148445440323, 23.756310705463807, '-0.25*x0 - 0.25*x1 + 0.25*x2 + 0.25*x3 + 3']\n",
            "[46.8263695199547, 23.52960359812308, 1.24779089858445]\n",
            "[46.82645046311327, 23.52838791838819, 1.24786090850830]\n",
            "[95.73080411689963, 23.327546464035166, tan(0.0291788969188929*x2 + 0.88010545566829)]\n",
            "[96.45077266713301, 23.245315586041865, tan(0.0187515188008547*x2 - 2.25579309421493)]\n",
            "[114.00400153885663, 23.118715196684242, tan(x3*exp(-2.8512812870763*exp(x1)) + 0.886947154998779)]\n",
            "[142.49654530491821, 23.079708409481626, tan(-0.00579398358240724*x0 + 0.0330431312322617*x3 + 0.880579270247327)]\n",
            "[154.48905393484353, 21.06542746610416, -tan(0.0193605255335569*x0 - 0.0219580046832561*sin(x3) + 2.24687715856312)]\n",
            "Checking for brute force + \n",
            "\n",
            "Checking for brute force * \n",
            "\n",
            "Checking polyfit \n",
            "\n",
            "Complexity  RMSE  Expression\n",
            "[14.298543993057573, 31.581628067077556, -2.01507231217991e-10]\n",
            "[33.65148445440323, 23.756310705463807, '-0.25*x0 - 0.25*x1 + 0.25*x2 + 0.25*x3 + 3']\n",
            "[46.8263695199547, 23.52960359812308, 1.24779089858445]\n",
            "[46.82645046311327, 23.52838791838819, 1.24786090850830]\n",
            "[95.73080411689963, 23.327546464035166, tan(0.0291788969188929*x2 + 0.88010545566829)]\n",
            "[96.45077266713301, 23.245315586041865, tan(0.0187515188008547*x2 - 2.25579309421493)]\n",
            "[114.00400153885663, 23.118715196684242, tan(x3*exp(-2.8512812870763*exp(x1)) + 0.886947154998779)]\n",
            "[142.49654530491821, 23.079708409481626, tan(-0.00579398358240724*x0 + 0.0330431312322617*x3 + 0.880579270247327)]\n",
            "[154.48905393484353, 21.06542746610416, -tan(0.0193605255335569*x0 - 0.0219580046832561*sin(x3) + 2.24687715856312)]\n",
            "Checking for brute force + \n",
            "\n",
            "Checking for brute force * \n",
            "\n",
            "Checking polyfit \n",
            "\n",
            "Complexity  RMSE  Expression\n",
            "[14.298543993057573, 31.581628067077556, -2.01507231217991e-10]\n",
            "[33.65148445440323, 23.756310705463807, '-0.25*x0 - 0.25*x1 + 0.25*x2 + 0.25*x3 + 3']\n",
            "[46.8263695199547, 23.52960359812308, 1.24779089858445]\n",
            "[46.82645046311327, 23.52838791838819, 1.24786090850830]\n",
            "[95.73080411689963, 23.327546464035166, tan(0.0291788969188929*x2 + 0.88010545566829)]\n",
            "[96.45077266713301, 23.245315586041865, tan(0.0187515188008547*x2 - 2.25579309421493)]\n",
            "[114.00400153885663, 23.118715196684242, tan(x3*exp(-2.8512812870763*exp(x1)) + 0.886947154998779)]\n",
            "[142.49654530491821, 23.079708409481626, tan(-0.00579398358240724*x0 + 0.0330431312322617*x3 + 0.880579270247327)]\n",
            "[154.48905393484353, 21.06542746610416, -tan(0.0193605255335569*x0 - 0.0219580046832561*sin(x3) + 2.24687715856312)]\n",
            "Checking for brute force + \n",
            "\n",
            "Checking for brute force * \n",
            "\n",
            "Checking polyfit \n",
            "\n",
            "Complexity  RMSE  Expression\n",
            "[0.0, 28.41837193711479, 8.91505505199440e-11]\n",
            "[33.65148445440323, 23.756310705463807, '-0.25*x0 - 0.25*x1 + 0.25*x2 + 0.25*x3 + 3']\n",
            "[44.92493580414848, 23.677963582431364, 0.334005201613170]\n",
            "[46.8263695199547, 23.52960359812308, 1.24779089858445]\n",
            "[46.82645046311327, 23.52838791838819, 1.24786090850830]\n",
            "[95.73080411689963, 23.327546464035166, tan(0.0291788969188929*x2 + 0.88010545566829)]\n",
            "[96.45077266713301, 23.245315586041865, tan(0.0187515188008547*x2 - 2.25579309421493)]\n",
            "[114.00400153885663, 23.118715196684242, tan(x3*exp(-2.8512812870763*exp(x1)) + 0.886947154998779)]\n",
            "[142.49654530491821, 23.079708409481626, tan(-0.00579398358240724*x0 + 0.0330431312322617*x3 + 0.880579270247327)]\n",
            "[154.48905393484353, 21.06542746610416, -tan(0.0193605255335569*x0 - 0.0219580046832561*sin(x3) + 2.24687715856312)]\n",
            "Checking for brute force + \n",
            "\n",
            "Checking for brute force * \n",
            "\n",
            "Checking polyfit \n",
            "\n",
            "Complexity  RMSE  Expression\n",
            "[0.0, 28.41837193711479, 8.91505505199440e-11]\n",
            "[33.65148445440323, 23.756310705463807, '-0.25*x0 - 0.25*x1 + 0.25*x2 + 0.25*x3 + 3']\n",
            "[44.92493580414848, 23.677963582431364, 0.334005201613170]\n",
            "[46.8263695199547, 23.52960359812308, 1.24779089858445]\n",
            "[46.82645046311327, 23.52838791838819, 1.24786090850830]\n",
            "[95.73080411689963, 23.327546464035166, tan(0.0291788969188929*x2 + 0.88010545566829)]\n",
            "[96.45077266713301, 23.245315586041865, tan(0.0187515188008547*x2 - 2.25579309421493)]\n",
            "[114.00400153885663, 23.118715196684242, tan(x3*exp(-2.8512812870763*exp(x1)) + 0.886947154998779)]\n",
            "[142.49654530491821, 23.079708409481626, tan(-0.00579398358240724*x0 + 0.0330431312322617*x3 + 0.880579270247327)]\n",
            "[145.81027267458916, 22.82945379255092, 1.08758935751181*exp(-0.14597961306572*x0 + 0.157637149095535*x3)]\n",
            "[145.84481988298418, 22.81430156778135, 1.09561982186887*exp(-0.154504373669624*x0 + 0.151431009173393*x3)]\n",
            "[154.48905393484353, 21.06542746610416, -tan(0.0193605255335569*x0 - 0.0219580046832561*sin(x3) + 2.24687715856312)]\n",
            "Checking for brute force + \n",
            "\n",
            "Checking for brute force * \n",
            "\n",
            "Checking polyfit \n",
            "\n",
            "Complexity  RMSE  Expression\n",
            "[0.0, 28.41837193711479, 8.91505505199440e-11]\n",
            "[28.911626050994496, 26.558110629411125, 'asin(-0.012491483110+(x0/pi))']\n",
            "[33.65148445440323, 23.756310705463807, '-0.25*x0 - 0.25*x1 + 0.25*x2 + 0.25*x3 + 3']\n",
            "[44.92493580414848, 23.677963582431364, 0.334005201613170]\n",
            "[46.8263695199547, 23.52960359812308, 1.24779089858445]\n",
            "[46.82645046311327, 23.52838791838819, 1.24786090850830]\n",
            "[95.73080411689963, 23.327546464035166, tan(0.0291788969188929*x2 + 0.88010545566829)]\n",
            "[96.45077266713301, 23.245315586041865, tan(0.0187515188008547*x2 - 2.25579309421493)]\n",
            "[114.00400153885663, 23.118715196684242, tan(x3*exp(-2.8512812870763*exp(x1)) + 0.886947154998779)]\n",
            "[142.49654530491821, 23.079708409481626, tan(-0.00579398358240724*x0 + 0.0330431312322617*x3 + 0.880579270247327)]\n",
            "[145.81027267458916, 22.82945379255092, 1.08758935751181*exp(-0.14597961306572*x0 + 0.157637149095535*x3)]\n",
            "[145.84481988298418, 22.81430156778135, 1.09561982186887*exp(-0.154504373669624*x0 + 0.151431009173393*x3)]\n",
            "[154.48905393484353, 21.06542746610416, -tan(0.0193605255335569*x0 - 0.0219580046832561*sin(x3) + 2.24687715856312)]\n",
            "Checking for brute force + \n",
            "\n",
            "Checking for brute force * \n",
            "\n",
            "Checking polyfit \n",
            "\n",
            "Complexity  RMSE  Expression\n",
            "[0.0, 28.41837193711479, 8.91505505199440e-11]\n",
            "[9.643856189774725, 26.9145603063651, '3.06250000000000']\n",
            "[28.911626050994496, 26.558110629411125, 'asin(-0.012491483110+(x0/pi))']\n",
            "[33.65148445440323, 23.756310705463807, '-0.25*x0 - 0.25*x1 + 0.25*x2 + 0.25*x3 + 3']\n",
            "[44.92493580414848, 23.677963582431364, 0.334005201613170]\n",
            "[46.8263695199547, 23.52960359812308, 1.24779089858445]\n",
            "[46.82645046311327, 23.52838791838819, 1.24786090850830]\n",
            "[95.73080411689963, 23.327546464035166, tan(0.0291788969188929*x2 + 0.88010545566829)]\n",
            "[96.45077266713301, 23.245315586041865, tan(0.0187515188008547*x2 - 2.25579309421493)]\n",
            "[114.00400153885663, 23.118715196684242, tan(x3*exp(-2.8512812870763*exp(x1)) + 0.886947154998779)]\n",
            "[142.49654530491821, 23.079708409481626, tan(-0.00579398358240724*x0 + 0.0330431312322617*x3 + 0.880579270247327)]\n",
            "[145.81027267458916, 22.82945379255092, 1.08758935751181*exp(-0.14597961306572*x0 + 0.157637149095535*x3)]\n",
            "[145.84481988298418, 22.81430156778135, 1.09561982186887*exp(-0.154504373669624*x0 + 0.151431009173393*x3)]\n",
            "[154.48905393484353, 21.06542746610416, -tan(0.0193605255335569*x0 - 0.0219580046832561*sin(x3) + 2.24687715856312)]\n",
            "Checking for brute force + \n",
            "\n",
            "Checking for brute force * \n",
            "\n",
            "Checking polyfit \n",
            "\n",
            "Complexity  RMSE  Expression\n",
            "[0.0, 28.41837193711479, 8.91505505199440e-11]\n",
            "[9.643856189774725, 26.9145603063651, '3.06250000000000']\n",
            "[28.911626050994496, 26.558110629411125, 'asin(-0.012491483110+(x0/pi))']\n",
            "[33.65148445440323, 23.756310705463807, '-0.25*x0 - 0.25*x1 + 0.25*x2 + 0.25*x3 + 3']\n",
            "[44.92493580414848, 23.677963582431364, 0.334005201613170]\n",
            "[46.8263695199547, 23.52960359812308, 1.24779089858445]\n",
            "[46.82645046311327, 23.52838791838819, 1.24786090850830]\n",
            "[95.73080411689963, 23.327546464035166, tan(0.0291788969188929*x2 + 0.88010545566829)]\n",
            "[96.45077266713301, 23.245315586041865, tan(0.0187515188008547*x2 - 2.25579309421493)]\n",
            "[114.00400153885663, 23.118715196684242, tan(x3*exp(-2.8512812870763*exp(x1)) + 0.886947154998779)]\n",
            "[142.49654530491821, 23.079708409481626, tan(-0.00579398358240724*x0 + 0.0330431312322617*x3 + 0.880579270247327)]\n",
            "[145.81027267458916, 22.82945379255092, 1.08758935751181*exp(-0.14597961306572*x0 + 0.157637149095535*x3)]\n",
            "[145.84481988298418, 22.81430156778135, 1.09561982186887*exp(-0.154504373669624*x0 + 0.151431009173393*x3)]\n",
            "[154.48905393484353, 21.06542746610416, -tan(0.0193605255335569*x0 - 0.0219580046832561*sin(x3) + 2.24687715856312)]\n",
            "Checking for brute force + \n",
            "\n",
            "Checking for brute force * \n",
            "\n",
            "Checking polyfit \n",
            "\n",
            "Complexity  RMSE  Expression\n",
            "[0.0, 28.41837193711479, 8.91505505199440e-11]\n",
            "[9.643856189774725, 26.9145603063651, '3.06250000000000']\n",
            "[28.911626050994496, 26.558110629411125, 'asin(-0.012491483110+(x0/pi))']\n",
            "[33.65148445440323, 23.756310705463807, '-0.25*x0 - 0.25*x1 + 0.25*x2 + 0.25*x3 + 3']\n",
            "[44.92493580414848, 23.677963582431364, 0.334005201613170]\n",
            "[46.8263695199547, 23.52960359812308, 1.24779089858445]\n",
            "[46.82645046311327, 23.52838791838819, 1.24786090850830]\n",
            "[95.73080411689963, 23.327546464035166, tan(0.0291788969188929*x2 + 0.88010545566829)]\n",
            "[96.45077266713301, 23.245315586041865, tan(0.0187515188008547*x2 - 2.25579309421493)]\n",
            "[114.00400153885663, 23.118715196684242, tan(x3*exp(-2.8512812870763*exp(x1)) + 0.886947154998779)]\n",
            "[142.49654530491821, 23.079708409481626, tan(-0.00579398358240724*x0 + 0.0330431312322617*x3 + 0.880579270247327)]\n",
            "[145.81027267458916, 22.82945379255092, 1.08758935751181*exp(-0.14597961306572*x0 + 0.157637149095535*x3)]\n",
            "[145.84481988298418, 22.81430156778135, 1.09561982186887*exp(-0.154504373669624*x0 + 0.151431009173393*x3)]\n",
            "[154.48905393484353, 21.06542746610416, -tan(0.0193605255335569*x0 - 0.0219580046832561*sin(x3) + 2.24687715856312)]\n",
            "Checking for symmetry \n",
            " duplicateVarsWithNoise100k.txt_train\n",
            "Training a NN on the data... \n",
            "\n",
            "tensor(0.0190, device='cuda:0', grad_fn=<DivBackward0>)\n",
            "tensor(0.0089, device='cuda:0', grad_fn=<DivBackward0>)\n",
            "tensor(0.0087, device='cuda:0', grad_fn=<DivBackward0>)\n",
            "tensor(0.0088, device='cuda:0', grad_fn=<DivBackward0>)\n",
            "NN loss:  tensor(0.0081, device='cuda:0', grad_fn=<DivBackward0>) \n",
            "\n",
            "Checking for brute force + \n",
            "\n",
            "Checking for brute force * \n",
            "\n",
            "Checking polyfit \n",
            "\n",
            "Complexity  RMSE  Expression\n",
            "[14.298543993057573, 31.581628067077556, -2.01507231217991e-10]\n",
            "[26.509775004326936, 23.756310705463807, '-0.25*x0 + 0.25*x1 + 0.25*x2 + 3']\n",
            "[197.0219105047844, 23.74999015795025, -0.244121598575509*x0 + 0.244312566791028*x1 + 0.244312566791028*x2 + 2.99985003471375]\n",
            "Checking for brute force + \n",
            "\n",
            "Checking for brute force * \n",
            "\n",
            "Checking polyfit \n",
            "\n",
            "Complexity  RMSE  Expression\n",
            "[14.298543993057573, 31.581628067077556, -2.01507231217991e-10]\n",
            "[26.509775004326936, 23.756310705463807, '-0.25*x0 + 0.25*x1 + 0.25*x2 + 3']\n",
            "[46.8263695199547, 23.52960359812308, 1.24779089858445]\n",
            "[46.82645046311327, 23.52838791838819, 1.24786090850830]\n",
            "[95.73080411689963, 23.327546464035166, tan(0.0291788969188929*x1 + 0.88010545566829)]\n",
            "[96.45077266713301, 23.245315586041865, tan(0.0187515188008547*x1 - 2.25579309421493)]\n",
            "[152.94374894251638, 22.523596021990404, tan(0.0150537405008728*exp(-1.00211560726166*x0 + x1) + 0.883908987045288)]\n",
            "[154.4041954212848, 22.473709098793677, tan(0.0413302747828398*x2*exp(-1.00191366672516*x0) + 0.886154413223267)]\n",
            "Checking for brute force + \n",
            "\n",
            "Checking for brute force * \n",
            "\n",
            "Checking polyfit \n",
            "\n",
            "Complexity  RMSE  Expression\n",
            "[14.298543993057573, 31.581628067077556, -2.01507231217991e-10]\n",
            "[26.509775004326936, 23.756310705463807, '-0.25*x0 + 0.25*x1 + 0.25*x2 + 3']\n",
            "[46.8263695199547, 23.52960359812308, 1.24779089858445]\n",
            "[46.82645046311327, 23.52838791838819, 1.24786090850830]\n",
            "[95.73080411689963, 23.327546464035166, tan(0.0291788969188929*x1 + 0.88010545566829)]\n",
            "[96.45077266713301, 23.245315586041865, tan(0.0187515188008547*x1 - 2.25579309421493)]\n",
            "[152.94374894251638, 22.523596021990404, tan(0.0150537405008728*exp(-1.00211560726166*x0 + x1) + 0.883908987045288)]\n",
            "[154.4041954212848, 22.473709098793677, tan(0.0413302747828398*x2*exp(-1.00191366672516*x0) + 0.886154413223267)]\n",
            "Checking for brute force + \n",
            "\n",
            "Checking for brute force * \n",
            "\n",
            "Checking polyfit \n",
            "\n",
            "Complexity  RMSE  Expression\n",
            "[14.298543993057573, 31.581628067077556, -2.01507231217991e-10]\n",
            "[26.509775004326936, 23.756310705463807, '-0.25*x0 + 0.25*x1 + 0.25*x2 + 3']\n",
            "[46.8263695199547, 23.52960359812308, 1.24779089858445]\n",
            "[46.82645046311327, 23.52838791838819, 1.24786090850830]\n",
            "[95.73080411689963, 23.327546464035166, tan(0.0291788969188929*x1 + 0.88010545566829)]\n",
            "[96.45077266713301, 23.245315586041865, tan(0.0187515188008547*x1 - 2.25579309421493)]\n",
            "[152.94374894251638, 22.523596021990404, tan(0.0150537405008728*exp(-1.00211560726166*x0 + x1) + 0.883908987045288)]\n",
            "[154.4041954212848, 22.473709098793677, tan(0.0413302747828398*x2*exp(-1.00191366672516*x0) + 0.886154413223267)]\n",
            "Checking for brute force + \n",
            "\n",
            "Checking for brute force * \n",
            "\n",
            "Checking polyfit \n",
            "\n",
            "Complexity  RMSE  Expression\n",
            "[0.0, 28.41837193711479, 8.91505505199440e-11]\n",
            "[26.509775004326936, 23.756310705463807, '-0.25*x0 + 0.25*x1 + 0.25*x2 + 3']\n",
            "[44.92493580414848, 23.677963582431364, 0.334005201613170]\n",
            "[46.8263695199547, 23.52960359812308, 1.24779089858445]\n",
            "[46.82645046311327, 23.52838791838819, 1.24786090850830]\n",
            "[95.73080411689963, 23.327546464035166, tan(0.0291788969188929*x1 + 0.88010545566829)]\n",
            "[96.45077266713301, 23.245315586041865, tan(0.0187515188008547*x1 - 2.25579309421493)]\n",
            "[152.94374894251638, 22.523596021990404, tan(0.0150537405008728*exp(-1.00211560726166*x0 + x1) + 0.883908987045288)]\n",
            "[154.4041954212848, 22.473709098793677, tan(0.0413302747828398*x2*exp(-1.00191366672516*x0) + 0.886154413223267)]\n",
            "Checking for brute force + \n",
            "\n",
            "Checking for brute force * \n",
            "\n",
            "Checking polyfit \n",
            "\n",
            "Complexity  RMSE  Expression\n",
            "[0.0, 28.41837193711479, 8.91505505199440e-11]\n",
            "[22.253496664211536, 28.11173677174486, '3*exp(0.1*x1 + 0.1*x2)']\n",
            "[26.509775004326936, 23.756310705463807, '-0.25*x0 + 0.25*x1 + 0.25*x2 + 3']\n",
            "[44.92493580414848, 23.677963582431364, 0.334005201613170]\n",
            "[46.8263695199547, 23.52960359812308, 1.24779089858445]\n",
            "[46.82645046311327, 23.52838791838819, 1.24786090850830]\n",
            "[95.73080411689963, 23.327546464035166, tan(0.0291788969188929*x1 + 0.88010545566829)]\n",
            "[96.45077266713301, 23.245315586041865, tan(0.0187515188008547*x1 - 2.25579309421493)]\n",
            "[152.94374894251638, 22.523596021990404, tan(0.0150537405008728*exp(-1.00211560726166*x0 + x1) + 0.883908987045288)]\n",
            "[154.4041954212848, 22.473709098793677, tan(0.0413302747828398*x2*exp(-1.00191366672516*x0) + 0.886154413223267)]\n",
            "Checking for brute force + \n",
            "\n",
            "Checking for brute force * \n",
            "\n",
            "Checking polyfit \n",
            "\n",
            "Complexity  RMSE  Expression\n",
            "[0.0, 28.41837193711479, 8.91505505199440e-11]\n",
            "[22.253496664211536, 28.11173677174486, '3*exp(0.1*x1 + 0.1*x2)']\n",
            "[26.509775004326936, 23.756310705463807, '-0.25*x0 + 0.25*x1 + 0.25*x2 + 3']\n",
            "[44.92493580414848, 23.677963582431364, 0.334005201613170]\n",
            "[46.8263695199547, 23.52960359812308, 1.24779089858445]\n",
            "[46.82645046311327, 23.52838791838819, 1.24786090850830]\n",
            "[95.73080411689963, 23.327546464035166, tan(0.0291788969188929*x1 + 0.88010545566829)]\n",
            "[96.45077266713301, 23.245315586041865, tan(0.0187515188008547*x1 - 2.25579309421493)]\n",
            "[152.94374894251638, 22.523596021990404, tan(0.0150537405008728*exp(-1.00211560726166*x0 + x1) + 0.883908987045288)]\n",
            "[154.4041954212848, 22.473709098793677, tan(0.0413302747828398*x2*exp(-1.00191366672516*x0) + 0.886154413223267)]\n",
            "Checking for brute force + \n",
            "\n",
            "Checking for brute force * \n",
            "\n",
            "Checking polyfit \n",
            "\n",
            "Complexity  RMSE  Expression\n",
            "[0.0, 28.41837193711479, 8.91505505199440e-11]\n",
            "[9.643856189774725, 26.9145603063651, '3.06250000000000']\n",
            "[26.509775004326936, 23.756310705463807, '-0.25*x0 + 0.25*x1 + 0.25*x2 + 3']\n",
            "[44.92493580414848, 23.677963582431364, 0.334005201613170]\n",
            "[46.8263695199547, 23.52960359812308, 1.24779089858445]\n",
            "[46.82645046311327, 23.52838791838819, 1.24786090850830]\n",
            "[95.73080411689963, 23.327546464035166, tan(0.0291788969188929*x1 + 0.88010545566829)]\n",
            "[96.45077266713301, 23.245315586041865, tan(0.0187515188008547*x1 - 2.25579309421493)]\n",
            "[152.94374894251638, 22.523596021990404, tan(0.0150537405008728*exp(-1.00211560726166*x0 + x1) + 0.883908987045288)]\n",
            "[154.4041954212848, 22.473709098793677, tan(0.0413302747828398*x2*exp(-1.00191366672516*x0) + 0.886154413223267)]\n",
            "Checking for brute force + \n",
            "\n",
            "Checking for brute force * \n",
            "\n",
            "Checking polyfit \n",
            "\n",
            "Complexity  RMSE  Expression\n",
            "[0.0, 28.41837193711479, 8.91505505199440e-11]\n",
            "[9.643856189774725, 26.9145603063651, '3.06250000000000']\n",
            "[26.509775004326936, 23.756310705463807, '-0.25*x0 + 0.25*x1 + 0.25*x2 + 3']\n",
            "[44.92493580414848, 23.677963582431364, 0.334005201613170]\n",
            "[46.8263695199547, 23.52960359812308, 1.24779089858445]\n",
            "[46.82645046311327, 23.52838791838819, 1.24786090850830]\n",
            "[95.73080411689963, 23.327546464035166, tan(0.0291788969188929*x1 + 0.88010545566829)]\n",
            "[96.45077266713301, 23.245315586041865, tan(0.0187515188008547*x1 - 2.25579309421493)]\n",
            "[152.94374894251638, 22.523596021990404, tan(0.0150537405008728*exp(-1.00211560726166*x0 + x1) + 0.883908987045288)]\n",
            "[154.4041954212848, 22.473709098793677, tan(0.0413302747828398*x2*exp(-1.00191366672516*x0) + 0.886154413223267)]\n",
            "Checking for brute force + \n",
            "\n",
            "Checking for brute force * \n",
            "\n",
            "Checking polyfit \n",
            "\n",
            "Complexity  RMSE  Expression\n",
            "[0.0, 28.41837193711479, 8.91505505199440e-11]\n",
            "[9.643856189774725, 26.9145603063651, '3.06250000000000']\n",
            "[26.509775004326936, 23.756310705463807, '-0.25*x0 + 0.25*x1 + 0.25*x2 + 3']\n",
            "[44.92493580414848, 23.677963582431364, 0.334005201613170]\n",
            "[46.8263695199547, 23.52960359812308, 1.24779089858445]\n",
            "[46.82645046311327, 23.52838791838819, 1.24786090850830]\n",
            "[95.73080411689963, 23.327546464035166, tan(0.0291788969188929*x1 + 0.88010545566829)]\n",
            "[96.45077266713301, 23.245315586041865, tan(0.0187515188008547*x1 - 2.25579309421493)]\n",
            "[152.94374894251638, 22.523596021990404, tan(0.0150537405008728*exp(-1.00211560726166*x0 + x1) + 0.883908987045288)]\n",
            "[154.4041954212848, 22.473709098793677, tan(0.0413302747828398*x2*exp(-1.00191366672516*x0) + 0.886154413223267)]\n",
            "Checking for symmetry \n",
            " duplicateVarsWithNoise100k.txt_train-translated_plus\n",
            "Found pretrained NN \n",
            "\n",
            "tensor(0.0098, device='cuda:0', grad_fn=<DivBackward0>)\n",
            "tensor(0.0099, device='cuda:0', grad_fn=<DivBackward0>)\n",
            "tensor(0.0085, device='cuda:0', grad_fn=<DivBackward0>)\n",
            "NN loss after training:  tensor(0.0081, device='cuda:0', grad_fn=<DivBackward0>) \n",
            "\n",
            "Checking for brute force + \n",
            "\n",
            "Checking for brute force * \n",
            "\n",
            "Checking polyfit \n",
            "\n",
            "Complexity  RMSE  Expression\n",
            "[14.298543993057573, 31.581628067077556, -2.01507231217991e-10]\n",
            "[19.60964047443681, 23.75631070546381, '-0.25*x0 + 0.25*x1 + 3']\n",
            "[148.6479826674349, 23.74999015795024, -0.244121598575509*x0 + 0.244312566791028*x1 + 2.99985003471375]\n",
            "[148.69053316745254, 23.746876361020863, -0.247294768691063*x0 + 0.248475328087807*x1 + 2.99890239428963]\n",
            "[163.08150501516462, 23.743843002977975, log(exp(-0.996738731861115*x0 + x1)**0.246664792299271) + 2.99927544593811]\n",
            "Checking for brute force + \n",
            "\n",
            "Checking for brute force * \n",
            "\n",
            "Checking polyfit \n",
            "\n",
            "Complexity  RMSE  Expression\n",
            "[14.298543993057573, 31.581628067077556, -2.01507231217991e-10]\n",
            "[19.60964047443681, 23.75631070546381, '-0.25*x0 + 0.25*x1 + 3']\n",
            "[46.8263695199547, 23.52960359812308, 1.24779089858445]\n",
            "[46.82645046311327, 23.52838791838819, 1.24786090850830]\n",
            "[94.72439334351114, 23.307957375496308, tan(0.0145175343744696*x1 + 0.880543649196625)]\n",
            "[133.70642928995457, 23.23563426393143, tan(0.0363856028613149*x1*exp(-1.00488221645355*x0) + 0.878974258899689)]\n",
            "[142.76882022170133, 22.74241991045427, tan(-0.0151082882174285*x0 + 0.0150588639693525*x1 + 0.894916176795959)]\n",
            "Checking for brute force + \n",
            "\n",
            "Checking for brute force * \n",
            "\n",
            "Checking polyfit \n",
            "\n",
            "Complexity  RMSE  Expression\n",
            "[2.0, 27.152543202544063, '3.14159265358979']\n",
            "[19.60964047443681, 23.75631070546381, '-0.25*x0 + 0.25*x1 + 3']\n",
            "[46.8263695199547, 23.52960359812308, 1.24779089858445]\n",
            "[46.82645046311327, 23.52838791838819, 1.24786090850830]\n",
            "[94.72439334351114, 23.307957375496308, tan(0.0145175343744696*x1 + 0.880543649196625)]\n",
            "[133.70642928995457, 23.23563426393143, tan(0.0363856028613149*x1*exp(-1.00488221645355*x0) + 0.878974258899689)]\n",
            "[142.76882022170133, 22.74241991045427, tan(-0.0151082882174285*x0 + 0.0150588639693525*x1 + 0.894916176795959)]\n",
            "Checking for brute force + \n",
            "\n",
            "Checking for brute force * \n",
            "\n",
            "Checking polyfit \n",
            "\n",
            "Complexity  RMSE  Expression\n",
            "[2.0, 27.152543202544063, '3.14159265358979']\n",
            "[19.60964047443681, 23.75631070546381, '-0.25*x0 + 0.25*x1 + 3']\n",
            "[46.8263695199547, 23.52960359812308, 1.24779089858445]\n",
            "[46.82645046311327, 23.52838791838819, 1.24786090850830]\n",
            "[94.72439334351114, 23.307957375496308, tan(0.0145175343744696*x1 + 0.880543649196625)]\n",
            "[133.70642928995457, 23.23563426393143, tan(0.0363856028613149*x1*exp(-1.00488221645355*x0) + 0.878974258899689)]\n",
            "[142.76882022170133, 22.74241991045427, tan(-0.0151082882174285*x0 + 0.0150588639693525*x1 + 0.894916176795959)]\n",
            "Checking for brute force + \n",
            "\n",
            "Checking for brute force * \n",
            "\n",
            "Checking polyfit \n",
            "\n",
            "Complexity  RMSE  Expression\n",
            "[0.0, 28.41837193711479, 8.91505505199440e-11]\n",
            "[2.0, 27.152543202544063, '3.14159265358979']\n",
            "[19.60964047443681, 23.75631070546381, '-0.25*x0 + 0.25*x1 + 3']\n",
            "[44.92493580414848, 23.677963582431364, 0.334005201613170]\n",
            "[46.8263695199547, 23.52960359812308, 1.24779089858445]\n",
            "[46.82645046311327, 23.52838791838819, 1.24786090850830]\n",
            "[94.72439334351114, 23.307957375496308, tan(0.0145175343744696*x1 + 0.880543649196625)]\n",
            "[133.70642928995457, 23.23563426393143, tan(0.0363856028613149*x1*exp(-1.00488221645355*x0) + 0.878974258899689)]\n",
            "[142.76882022170133, 22.74241991045427, tan(-0.0151082882174285*x0 + 0.0150588639693525*x1 + 0.894916176795959)]\n",
            "Checking for brute force + \n",
            "\n",
            "Checking for brute force * \n",
            "\n",
            "Checking polyfit \n",
            "\n",
            "Complexity  RMSE  Expression\n",
            "[0.0, 28.41837193711479, 8.91505505199440e-11]\n",
            "[2.0, 27.152543202544063, '3.14159265358979']\n",
            "[19.60964047443681, 23.75631070546381, '-0.25*x0 + 0.25*x1 + 3']\n",
            "[44.92493580414848, 23.677963582431364, 0.334005201613170]\n",
            "[46.8263695199547, 23.52960359812308, 1.24779089858445]\n",
            "[46.82645046311327, 23.52838791838819, 1.24786090850830]\n",
            "[94.72439334351114, 23.307957375496308, tan(0.0145175343744696*x1 + 0.880543649196625)]\n",
            "[133.70642928995457, 23.23563426393143, tan(0.0363856028613149*x1*exp(-1.00488221645355*x0) + 0.878974258899689)]\n",
            "[142.76882022170133, 22.74241991045427, tan(-0.0151082882174285*x0 + 0.0150588639693525*x1 + 0.894916176795959)]\n",
            "Checking for brute force + \n",
            "\n",
            "Checking for brute force * \n",
            "\n",
            "Checking polyfit \n",
            "\n",
            "Complexity  RMSE  Expression\n",
            "[0.0, 28.41837193711479, 8.91505505199440e-11]\n",
            "[2.0, 27.152543202544063, '3.14159265358979']\n",
            "[19.60964047443681, 23.75631070546381, '-0.25*x0 + 0.25*x1 + 3']\n",
            "[44.92493580414848, 23.677963582431364, 0.334005201613170]\n",
            "[46.8263695199547, 23.52960359812308, 1.24779089858445]\n",
            "[46.82645046311327, 23.52838791838819, 1.24786090850830]\n",
            "[94.72439334351114, 23.307957375496308, tan(0.0145175343744696*x1 + 0.880543649196625)]\n",
            "[133.70642928995457, 23.23563426393143, tan(0.0363856028613149*x1*exp(-1.00488221645355*x0) + 0.878974258899689)]\n",
            "[142.76882022170133, 22.74241991045427, tan(-0.0151082882174285*x0 + 0.0150588639693525*x1 + 0.894916176795959)]\n",
            "Checking for brute force + \n",
            "\n",
            "Checking for brute force * \n",
            "\n",
            "Checking polyfit \n",
            "\n",
            "Complexity  RMSE  Expression\n",
            "[0.0, 28.41837193711479, 8.91505505199440e-11]\n",
            "[2.0, 27.152543202544063, '3.14159265358979']\n",
            "[9.643856189774725, 26.9145603063651, '3.06250000000000']\n",
            "[19.60964047443681, 23.75631070546381, '-0.25*x0 + 0.25*x1 + 3']\n",
            "[44.92493580414848, 23.677963582431364, 0.334005201613170]\n",
            "[46.8263695199547, 23.52960359812308, 1.24779089858445]\n",
            "[46.82645046311327, 23.52838791838819, 1.24786090850830]\n",
            "[94.72439334351114, 23.307957375496308, tan(0.0145175343744696*x1 + 0.880543649196625)]\n",
            "[133.70642928995457, 23.23563426393143, tan(0.0363856028613149*x1*exp(-1.00488221645355*x0) + 0.878974258899689)]\n",
            "[142.76882022170133, 22.74241991045427, tan(-0.0151082882174285*x0 + 0.0150588639693525*x1 + 0.894916176795959)]\n",
            "Checking for brute force + \n",
            "\n",
            "Checking for brute force * \n",
            "\n",
            "Checking polyfit \n",
            "\n",
            "Complexity  RMSE  Expression\n",
            "[0.0, 28.41837193711479, 8.91505505199440e-11]\n",
            "[2.0, 27.152543202544063, '3.14159265358979']\n",
            "[9.643856189774725, 26.9145603063651, '3.06250000000000']\n",
            "[17.93156856932417, 25.293845362147447, '(-x0 + x1 + 9)**0.5']\n",
            "[19.60964047443681, 23.75631070546381, '-0.25*x0 + 0.25*x1 + 3']\n",
            "[44.92493580414848, 23.677963582431364, 0.334005201613170]\n",
            "[46.8263695199547, 23.52960359812308, 1.24779089858445]\n",
            "[46.82645046311327, 23.52838791838819, 1.24786090850830]\n",
            "[94.72439334351114, 23.307957375496308, tan(0.0145175343744696*x1 + 0.880543649196625)]\n",
            "[133.70642928995457, 23.23563426393143, tan(0.0363856028613149*x1*exp(-1.00488221645355*x0) + 0.878974258899689)]\n",
            "[142.76882022170133, 22.74241991045427, tan(-0.0151082882174285*x0 + 0.0150588639693525*x1 + 0.894916176795959)]\n",
            "Checking for brute force + \n",
            "\n",
            "Checking for brute force * \n",
            "\n",
            "Checking polyfit \n",
            "\n",
            "Complexity  RMSE  Expression\n",
            "[0.0, 28.41837193711479, 8.91505505199440e-11]\n",
            "[2.0, 27.152543202544063, '3.14159265358979']\n",
            "[9.643856189774725, 26.9145603063651, '3.06250000000000']\n",
            "[17.93156856932417, 25.293845362147447, '(-x0 + x1 + 9)**0.5']\n",
            "[19.60964047443681, 23.75631070546381, '-0.25*x0 + 0.25*x1 + 3']\n",
            "[44.92493580414848, 23.677963582431364, 0.334005201613170]\n",
            "[46.8263695199547, 23.52960359812308, 1.24779089858445]\n",
            "[46.82645046311327, 23.52838791838819, 1.24786090850830]\n",
            "[94.72439334351114, 23.307957375496308, tan(0.0145175343744696*x1 + 0.880543649196625)]\n",
            "[133.70642928995457, 23.23563426393143, tan(0.0363856028613149*x1*exp(-1.00488221645355*x0) + 0.878974258899689)]\n",
            "[142.76882022170133, 22.74241991045427, tan(-0.0151082882174285*x0 + 0.0150588639693525*x1 + 0.894916176795959)]\n",
            "Checking for symmetry \n",
            " duplicateVarsWithNoise100k.txt_train-translated_plus-translated_plus\n",
            "Found pretrained NN \n",
            "\n",
            "tensor(0.0084, device='cuda:0', grad_fn=<DivBackward0>)\n",
            "tensor(0.0084, device='cuda:0', grad_fn=<DivBackward0>)\n",
            "tensor(0.0084, device='cuda:0', grad_fn=<DivBackward0>)\n",
            "NN loss after training:  tensor(0.0081, device='cuda:0', grad_fn=<DivBackward0>) \n",
            "\n",
            "Checking for brute force + \n",
            "\n",
            "Checking for brute force * \n",
            "\n",
            "Checking polyfit \n",
            "\n",
            "Complexity  RMSE  Expression\n",
            "[9.754887502163468, 23.75631070546381, '3.0 - 0.25*x0']\n",
            "[97.33202049539872, 23.743398270312234, 3.0000847199218 - 0.24624103307724*x0]\n",
            "[97.33204083945965, 23.743014020333312, 2.99994040258698 - 0.246256351470947*x0]\n",
            "Checking for brute force + \n",
            "\n",
            "Checking for brute force * \n",
            "\n",
            "Checking polyfit \n",
            "\n",
            "Complexity  RMSE  Expression\n",
            "[9.754887502163468, 23.75631070546381, '3.0 - 0.25*x0']\n",
            "[46.8263695199547, 23.52960359812308, 1.24779089858445]\n",
            "[46.82645046311327, 23.52838791838819, 1.24786090850830]\n",
            "[98.77503141559056, 20.703903921577588, -tan(0.00969366448633013*x0 - 0.895115911960602)]\n",
            "[98.77503230498766, 20.70388075381098, -tan(0.00969367046231229*x0 - 0.895115911960602)]\n",
            "Checking for brute force + \n",
            "\n",
            "Checking for brute force * \n",
            "\n",
            "Checking polyfit \n",
            "\n",
            "Complexity  RMSE  Expression\n",
            "[2.0, 27.152543202544063, '3.14159265358979']\n",
            "[9.754887502163468, 23.75631070546381, '3.0 - 0.25*x0']\n",
            "[46.8263695199547, 23.52960359812308, 1.24779089858445]\n",
            "[46.82645046311327, 23.52838791838819, 1.24786090850830]\n",
            "[98.77503141559056, 20.703903921577588, -tan(0.00969366448633013*x0 - 0.895115911960602)]\n",
            "[98.77503230498766, 20.70388075381098, -tan(0.00969367046231229*x0 - 0.895115911960602)]\n",
            "Checking for brute force + \n",
            "\n",
            "Checking for brute force * \n",
            "\n",
            "Checking polyfit \n",
            "\n",
            "Complexity  RMSE  Expression\n",
            "[2.0, 27.152543202544063, '3.14159265358979']\n",
            "[9.754887502163468, 23.75631070546381, '3.0 - 0.25*x0']\n",
            "[34.98176767829577, 23.745005671666124, 'log(0.6*x0**2 - 5*x0 + 20.1)']\n",
            "[46.8263695199547, 23.52960359812308, 1.24779089858445]\n",
            "[46.82645046311327, 23.52838791838819, 1.24786090850830]\n",
            "[98.77503141559056, 20.703903921577588, -tan(0.00969366448633013*x0 - 0.895115911960602)]\n",
            "[98.77503230498766, 20.70388075381098, -tan(0.00969367046231229*x0 - 0.895115911960602)]\n",
            "Checking for brute force + \n",
            "\n",
            "Checking for brute force * \n",
            "\n",
            "Checking polyfit \n",
            "\n",
            "Complexity  RMSE  Expression\n",
            "[0.0, 28.41837193711479, 8.91505505199440e-11]\n",
            "[2.0, 27.152543202544063, '3.14159265358979']\n",
            "[9.754887502163468, 23.75631070546381, '3.0 - 0.25*x0']\n",
            "[34.98176767829577, 23.745005671666124, 'log(0.6*x0**2 - 5*x0 + 20.1)']\n",
            "[44.92493580414848, 23.677963582431364, 0.334005201613170]\n",
            "[46.8263695199547, 23.52960359812308, 1.24779089858445]\n",
            "[46.82645046311327, 23.52838791838819, 1.24786090850830]\n",
            "[90.99992632646352, 20.8355488454032, 0.0273812562227249*x0 + 0.334880835170863]\n",
            "[98.77503141559056, 20.703903921577588, -tan(0.00969366448633013*x0 - 0.895115911960602)]\n",
            "[98.77503230498766, 20.70388075381098, -tan(0.00969367046231229*x0 - 0.895115911960602)]\n",
            "Checking for brute force + \n",
            "\n",
            "Checking for brute force * \n",
            "\n",
            "Checking polyfit \n",
            "\n",
            "Complexity  RMSE  Expression\n",
            "[0.0, 28.41837193711479, 8.91505505199440e-11]\n",
            "[2.0, 27.152543202544063, '3.14159265358979']\n",
            "[9.754887502163468, 23.75631070546381, '3.0 - 0.25*x0']\n",
            "[34.98176767829577, 23.745005671666124, 'log(0.6*x0**2 - 5*x0 + 20.1)']\n",
            "[44.92493580414848, 23.677963582431364, 0.334005201613170]\n",
            "[46.8263695199547, 23.52960359812308, 1.24779089858445]\n",
            "[46.82645046311327, 23.52838791838819, 1.24786090850830]\n",
            "[90.99992632646352, 20.8355488454032, 0.0273812562227249*x0 + 0.334880835170863]\n",
            "[98.77503141559056, 20.703903921577588, -tan(0.00969366448633013*x0 - 0.895115911960602)]\n",
            "[98.77503230498766, 20.70388075381098, -tan(0.00969367046231229*x0 - 0.895115911960602)]\n",
            "Checking for brute force + \n",
            "\n",
            "Checking for brute force * \n",
            "\n",
            "Checking polyfit \n",
            "\n",
            "Complexity  RMSE  Expression\n",
            "[0.0, 28.41837193711479, 8.91505505199440e-11]\n",
            "[2.0, 27.152543202544063, '3.14159265358979']\n",
            "[9.754887502163468, 23.75631070546381, '3.0 - 0.25*x0']\n",
            "[34.98176767829577, 23.745005671666124, 'log(0.6*x0**2 - 5*x0 + 20.1)']\n",
            "[44.92493580414848, 23.677963582431364, 0.334005201613170]\n",
            "[46.8263695199547, 23.52960359812308, 1.24779089858445]\n",
            "[46.82645046311327, 23.52838791838819, 1.24786090850830]\n",
            "[90.99992632646352, 20.8355488454032, 0.0273812562227249*x0 + 0.334880835170863]\n",
            "[98.77503141559056, 20.703903921577588, -tan(0.00969366448633013*x0 - 0.895115911960602)]\n",
            "[98.77503230498766, 20.70388075381098, -tan(0.00969367046231229*x0 - 0.895115911960602)]\n",
            "Checking for brute force + \n",
            "\n",
            "Checking for brute force * \n",
            "\n",
            "Checking polyfit \n",
            "\n",
            "Complexity  RMSE  Expression\n",
            "[0.0, 28.41837193711479, 8.91505505199440e-11]\n",
            "[2.0, 27.152543202544063, '3.14159265358979']\n",
            "[9.643856189774725, 26.9145603063651, '3.06250000000000']\n",
            "[9.754887502163468, 23.75631070546381, '3.0 - 0.25*x0']\n",
            "[34.98176767829577, 23.745005671666124, 'log(0.6*x0**2 - 5*x0 + 20.1)']\n",
            "[44.92493580414848, 23.677963582431364, 0.334005201613170]\n",
            "[46.8263695199547, 23.52960359812308, 1.24779089858445]\n",
            "[46.82645046311327, 23.52838791838819, 1.24786090850830]\n",
            "[90.99992632646352, 20.8355488454032, 0.0273812562227249*x0 + 0.334880835170863]\n",
            "[98.77503141559056, 20.703903921577588, -tan(0.00969366448633013*x0 - 0.895115911960602)]\n",
            "[98.77503230498766, 20.70388075381098, -tan(0.00969367046231229*x0 - 0.895115911960602)]\n",
            "Checking for brute force + \n",
            "\n",
            "Checking for brute force * \n",
            "\n",
            "Checking polyfit \n",
            "\n",
            "Complexity  RMSE  Expression\n",
            "[0.0, 28.41837193711479, 8.91505505199440e-11]\n",
            "[2.0, 27.152543202544063, '3.14159265358979']\n",
            "[9.643856189774725, 26.9145603063651, '3.06250000000000']\n",
            "[9.754887502163468, 23.75631070546381, '3.0 - 0.25*x0']\n",
            "[34.98176767829577, 23.745005671666124, 'log(0.6*x0**2 - 5*x0 + 20.1)']\n",
            "[44.92493580414848, 23.677963582431364, 0.334005201613170]\n",
            "[46.8263695199547, 23.52960359812308, 1.24779089858445]\n",
            "[46.82645046311327, 23.52838791838819, 1.24786090850830]\n",
            "[90.99992632646352, 20.8355488454032, 0.0273812562227249*x0 + 0.334880835170863]\n",
            "[98.77503141559056, 20.703903921577588, -tan(0.00969366448633013*x0 - 0.895115911960602)]\n",
            "[98.77503230498766, 20.70388075381098, -tan(0.00969367046231229*x0 - 0.895115911960602)]\n",
            "Checking for brute force + \n",
            "\n",
            "Checking for brute force * \n",
            "\n",
            "Checking polyfit \n",
            "\n",
            "Complexity  RMSE  Expression\n",
            "[0.0, 28.41837193711479, 8.91505505199440e-11]\n",
            "[2.0, 27.152543202544063, '3.14159265358979']\n",
            "[9.643856189774725, 26.9145603063651, '3.06250000000000']\n",
            "[9.754887502163468, 23.75631070546381, '3.0 - 0.25*x0']\n",
            "[34.98176767829577, 23.745005671666124, 'log(0.6*x0**2 - 5*x0 + 20.1)']\n",
            "[44.92493580414848, 23.677963582431364, 0.334005201613170]\n",
            "[46.8263695199547, 23.52960359812308, 1.24779089858445]\n",
            "[46.82645046311327, 23.52838791838819, 1.24786090850830]\n",
            "[90.99992632646352, 20.8355488454032, 0.0273812562227249*x0 + 0.334880835170863]\n",
            "[98.77503141559056, 20.703903921577588, -tan(0.00969366448633013*x0 - 0.895115911960602)]\n",
            "[98.77503230498766, 20.70388075381098, -tan(0.00969367046231229*x0 - 0.895115911960602)]\n",
            "Checking for symmetry \n",
            " duplicateVarsWithNoise100k.txt_train-translated_plus-translated_plus-translated_minus\n",
            "Just one variable!\n",
            "duplicateVarsWithNoise100k.txt_train-translated_plus-translated_plus-translated_minus just one variable for ADD \n",
            "\n",
            "duplicateVarsWithNoise100k.txt_train-translated_plus-translated_plus-translated_minus just one variable for ADD \n",
            "\n",
            "duplicateVarsWithNoise100k.txt_train-translated_plus-translated_plus-translated_minus just one variable for ADD \n",
            "\n",
            "duplicateVarsWithNoise100k.txt_train-translated_plus-translated_plus-translated_minus just one variable for ADD \n",
            "\n",
            "duplicateVarsWithNoise100k.txt_train-translated_plus-translated_plus-translated_minus just one variable for ADD\n",
            "duplicateVarsWithNoise100k.txt_train-translated_plus-translated_plus-translated_minus just one variable for ADD\n"
          ],
          "name": "stdout"
        }
      ]
    },
    {
      "cell_type": "code",
      "metadata": {
        "id": "MU7AgMaY6GEj",
        "colab": {
          "base_uri": "https://localhost:8080/",
          "height": 204
        },
        "outputId": "f41ad54c-7610-48ac-ca56-4941a9cf62aa"
      },
      "source": [
        "!cat /content/AI-Feynman/Code/results/solution_duplicateVarsWithNoise100k.txt"
      ],
      "execution_count": null,
      "outputs": [
        {
          "output_type": "stream",
          "text": [
            "31.581628066937117 4.828752001138368 482875.20011383685 0.0 28.41837193711479 8.91505505199440e-11\n",
            "26.839728820466323 4.746298189996813 474629.81899968133 2.0 26.839728820466323 3\n",
            "23.756310705463807 4.570238901556437 457023.89015564375 9.754887502163468 23.75631070546381 3.0 - 0.25*((x0+x1)-(x2+x3))\n",
            "23.756310705463807 4.570238901556437 457023.89015564375 26.509775004326936 23.756310705463807 -0.25*(x0+x1) + 0.25*x2 + 0.25*x3 + 3\n",
            "23.745005671666114 4.569552195681785 456955.2195681785 34.98176767829577 23.745005671666124 log(0.6*((x0+x1)-(x2+x3))**2 - 5*((x0+x1)-(x2+x3)) + 20.1)\n",
            "31.410443124425957 4.565473102549251 456547.31025492505 44.92493580414848 23.677963582431364 0.334005201613170\n",
            "30.79927262051402 4.5564051106540235 455640.51106540236 46.8263695199547 23.52960359812308 1.24779089858445\n",
            "30.799214170258804 4.556330570493311 455633.05704933114 46.82645046311327 23.52838791838819 1.24786090850830\n",
            "31.408971447832 4.380975198580926 438097.5198580926 90.99992632646352 20.8355488454032 0.0273812562227249*((x0+x1)-(x2+x3)) + 0.334880835170863\n",
            "30.80116426099759 4.3718309223833005 437183.09223833005 98.77503141559056 20.703903921577588 -tan(0.00969366448633013*((x0+x1)-(x2+x3)) - 0.895115911960602)\n",
            "30.801164261893312 4.37182930799981 437182.93079998094 98.77503230498766 20.70388075381098 -tan(0.00969367046231229*((x0+x1)-(x2+x3)) - 0.895115911960602)\n"
          ],
          "name": "stdout"
        }
      ]
    },
    {
      "cell_type": "code",
      "metadata": {
        "id": "YCqI4u3z7bwX"
      },
      "source": [
        "!cp -r /content/AI-Feynman /content/gdrive/My\\ Drive/Lemay.ai_research/"
      ],
      "execution_count": null,
      "outputs": []
    },
    {
      "cell_type": "code",
      "metadata": {
        "id": "DWwOCnPbJWIe"
      },
      "source": [
        "# from S_run_aifeynman import run_aifeynman\n",
        "# run_aifeynman(\"/content/gdrive/My Drive/Lemay.ai_research/AI-Feynman/example_data/\",\"duplicateVarsWithNoise.txt\",30,\"19ops.txt\", polyfit_deg=3, NN_epochs=1000)"
      ],
      "execution_count": null,
      "outputs": []
    },
    {
      "cell_type": "code",
      "metadata": {
        "id": "5BlxdiAGuuOh"
      },
      "source": [
        "import os\n",
        "import random\n",
        "import numpy as np\n",
        "os.chdir(\"/content/gdrive/My Drive/Lemay.ai_research/AI-Feynman/example_data\")\n",
        "\n",
        "def getY(x01,x23):\n",
        "  y = -0.5*x01+0.5*x23+3\n",
        "  return y\n",
        "\n",
        "def getRow():\n",
        "  x=[0 for x in range(4)]\n",
        "  x[1]=random.random()\n",
        "  x[3]=random.random()\n",
        "  y=getY(x[1],x[3])\n",
        "  mu=0\n",
        "  sigma=0.05\n",
        "  noise=np.random.normal(mu, sigma, 4)\n",
        "  x=x+noise\n",
        "  return str(x[1])+\" \"+str(x[3])+\" \"+str(y)+\"\\n\"\n",
        "\n",
        "with open(\"varsWithNoise.txt\", \"w\") as f:\n",
        "  for _ in range(100000):\n",
        "    f.write(getRow())\n",
        "f.close()\n",
        "\n",
        "# switch back to the code directory\n",
        "os.chdir(\"/content/gdrive/My Drive/Lemay.ai_research/AI-Feynman/Code\")"
      ],
      "execution_count": null,
      "outputs": []
    },
    {
      "cell_type": "code",
      "metadata": {
        "id": "hhBVHdOdmN6u"
      },
      "source": [
        "%matplotlib inline\n",
        "import matplotlib.pyplot as plt\n",
        "import pandas as pd\n",
        "plt.style.use('seaborn-whitegrid')\n",
        "import numpy as np\n",
        "\n",
        "df=pd.read_csv(\"../example_data/varsWithNoise.txt\",sep=\" \",header=None)\n",
        "df.plot.scatter(x=0, y=2)\n",
        "df.plot.scatter(x=1, y=2)"
      ],
      "execution_count": null,
      "outputs": []
    },
    {
      "cell_type": "code",
      "metadata": {
        "id": "0cOAKEZ5RMEW"
      },
      "source": [
        "from S_run_aifeynman import run_aifeynman\n",
        "run_aifeynman(\"/content/gdrive/My Drive/Lemay.ai_research/AI-Feynman/example_data/\",\"varsWithNoise.txt\",30,\"14ops.txt\", polyfit_deg=3, NN_epochs=1000)"
      ],
      "execution_count": null,
      "outputs": []
    },
    {
      "cell_type": "code",
      "metadata": {
        "id": "xnrg6-NzRg4t"
      },
      "source": [],
      "execution_count": null,
      "outputs": []
    }
  ]
}